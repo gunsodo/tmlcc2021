{
 "cells": [
  {
   "cell_type": "markdown",
   "source": "## Features Extraction\n### Important Features:\n- Functional group  **// Done**\n- Adsorption energy **// Already Available**\n- Metal type **// Done**\n- Void volume & void fraction & density  **// Already Available**\n- GSA **// Already Available**\n- VSA **// Done**\n- Pore diameter\n- Selectivity **// Already Available**\n- Metal + Topology --> Open active site of metal  //Optional\n",
   "metadata": {
    "tags": [],
    "cell_id": "00000-2dd1be46-f5a7-4f61-8a31-e12c2e0c8209",
    "deepnote_cell_type": "markdown"
   }
  },
  {
   "cell_type": "markdown",
   "source": "## Import Files",
   "metadata": {
    "tags": [],
    "is_collapsed": false,
    "cell_id": "00001-b7233e57-21e9-4e03-b31b-c661dcf2cf46",
    "deepnote_cell_type": "text-cell-h2"
   }
  },
  {
   "cell_type": "code",
   "metadata": {
    "tags": [],
    "cell_id": "00000-bd4e01f8-69e3-49b5-a267-5252d84622aa",
    "deepnote_to_be_reexecuted": false,
    "source_hash": "5e41af7",
    "execution_start": 1633186238333,
    "execution_millis": 131,
    "deepnote_cell_type": "code"
   },
   "source": "import numpy as np\nimport pandas as pd\n\nfile = pd.read_csv('/work/tmlcc2021/data/train_rm_keepfg.csv')\n#file[file.functional_groups.isnull()]",
   "outputs": [],
   "execution_count": null
  },
  {
   "cell_type": "code",
   "source": "",
   "metadata": {
    "cell_id": "00002-cdbef522-194e-46dc-941f-40e3accf8fa7",
    "deepnote_to_be_reexecuted": false,
    "source_hash": "b623e53d",
    "execution_start": 1633186238469,
    "execution_millis": 6,
    "deepnote_cell_type": "visualization"
   },
   "outputs": [],
   "execution_count": null
  },
  {
   "cell_type": "markdown",
   "source": "### 1. Calculation of Volumetric Surface Area (VSA; m^2/cm^3)",
   "metadata": {
    "tags": [],
    "is_collapsed": false,
    "cell_id": "00005-e3d8a65c-7d5a-4711-9f91-6aceec482fd3",
    "deepnote_cell_type": "text-cell-h3"
   }
  },
  {
   "cell_type": "code",
   "metadata": {
    "tags": [],
    "cell_id": "00004-88b31e8b-a57b-4092-b9e2-4dc526d7859d",
    "deepnote_to_be_reexecuted": false,
    "source_hash": "e566a234",
    "execution_start": 1633186238476,
    "execution_millis": 9,
    "deepnote_cell_type": "code"
   },
   "source": "## Calculation of VSA from GSA\n\nsa = file['surface_area [m^2/g]']\nsa_num = sa.to_numpy()\nweight = file['weight [u]']\nweight_num = 1.6605300000013*(10**-24)*weight.to_numpy()\nsa_weight = np.multiply(sa_num,weight_num)\nvol = file['volume [A^3]']\nvol_num = (10**-24)*vol.to_numpy()\nVSA = np.divide(sa_weight,vol_num)\nfile.insert(loc=4, column='volumetric_sa [m^2/cm^3]', value=VSA)",
   "outputs": [],
   "execution_count": null
  },
  {
   "cell_type": "markdown",
   "source": "### 2. Assign Numbers to Functional Groups",
   "metadata": {
    "tags": [],
    "is_collapsed": false,
    "cell_id": "00007-af09d97a-ed3d-40a4-9447-99d944ea3492",
    "deepnote_cell_type": "text-cell-h3"
   }
  },
  {
   "cell_type": "code",
   "metadata": {
    "tags": [],
    "cell_id": "00005-9fe6f289-ab3e-432b-8832-fc9088057835",
    "deepnote_to_be_reexecuted": false,
    "source_hash": "80c70926",
    "execution_start": 1633186238505,
    "execution_millis": 301,
    "deepnote_cell_type": "code"
   },
   "source": "## Convert functional_groups strings into numbers\n\ndef get_func_group_number(functional_group):\n    \"\"\"\n    This fuction will convert a string of functional group \n    into a number indicating a type of the functional group.\n    \"\"\"\n    functional_group_split = functional_group.split('-')\n    functional_group_list = ['None','F','Cl','Br','I','Me','Et','Pr','HCO','COOH','OH','OMe','OEt',\n                            'OPr','NH2','CN','NHMe','NO2','Ph','SO3H','H']\n    functional_group_index = range(0, len(functional_group_list))\n    functional_group_dict = {fg: i for fg, i in zip(functional_group_list, functional_group_index)}\n\n    fg_1 = functional_group_dict[functional_group_split[0]]\n    if len(functional_group_split) == 1:\n        fg_2 = fg_1\n    else:\n        fg_2 = functional_group_dict[functional_group_split[1]]\n    return fg_1,fg_2 \n\nfile.at[file.functional_groups.isnull(),'functional_groups'] = 'None'\nfunctional_group = file['functional_groups']\nfg_num = functional_group.to_numpy()\nfg_1 = np.zeros_like(fg_num)\nfg_2 = np.zeros_like(fg_num)\nfor i in range(len(fg_num)):\n    fg_1[i],fg_2[i] = get_func_group_number(fg_num[i])\nfile.insert(loc=9, column='functional_group_1', value=fg_1)\nfile.insert(loc=10, column='functional_group_2', value=fg_2)\n#file.drop(['organic_linker1', 'organic_linker2', 'functional_groups'], axis=1)\n#file\n#file[file.functional_groups.isin(['None'])]",
   "outputs": [],
   "execution_count": null
  },
  {
   "cell_type": "markdown",
   "source": "### 3. Assign Number to Metal Elements",
   "metadata": {
    "tags": [],
    "is_collapsed": false,
    "cell_id": "00009-cc17b44b-3660-4440-b83a-02f103553512",
    "deepnote_cell_type": "text-cell-h3"
   }
  },
  {
   "cell_type": "code",
   "metadata": {
    "tags": [],
    "cell_id": "00007-b8f4117c-8628-4c47-bee1-316f9127d9bb",
    "deepnote_to_be_reexecuted": false,
    "source_hash": "ede6c5db",
    "execution_start": 1633186238831,
    "execution_millis": 16406,
    "deepnote_cell_type": "code"
   },
   "source": "## Extract element of metal from metal linker\n\n# List of Metal from Metal Linker Number\n# In the train set:\n# Zn = 1,3  //Group 12\n# Cu = 2    //Group 11\n# V  = 9    //Group 5\n# Ba = 10   //Group 2  - S-block\n# Ni = 12   //Group 10\n# Cr = 4    //Group 6\n# Not in train set:\n# Cd = 5    //Group 12\n# Mn = 6    //Group 7\n# Zr = 7    //Group 4\n# Al = 8    //Group 13 - P-block\n# In = 11   //Group 13 - P-block\n\n# It seems like each metal element has unique number, except for Zn. --> Let's assign that:\n\nmetal_element = file['metal_linker']\nmt_num = metal_element.to_numpy()\nmetal_group = np.zeros_like(mt_num)\n\nfor i in range(len(metal_element)):\n    if np.isin(metal_element[i],[1,3,5]) :\n        metal_group[i] = 12\n    elif np.isin(metal_element[i],[8,11]) :\n        metal_group[i] = 13\n    elif metal_element[i] == 2 :\n        metal_group[i] = 11\n    elif metal_element[i] == 9 :\n        metal_group[i] = 5\n    elif metal_element[i] == 10 :\n        metal_group[i] = 2\n    elif metal_element[i] == 12 :\n        metal_group[i] = 10\n    elif metal_element[i] == 4 :\n        metal_group[i] = 6\n    elif metal_element[i] == 5 :\n        metal_group[i] = 12\n    elif metal_element[i] == 6 :\n        metal_group[i] = 7\n    elif metal_element[i] == 7 :\n        metal_group[i] = 4\n    else:\n        raise Exception(\"Out-of-range number found.\")\n    if metal_element[i] == 3 :\n        metal_element[i] = 1\n\n#file['metal_element'] = metal_element\nfile.insert(loc=9, column='metal_group', value=metal_group)\nfile.insert(loc=8, column='metal_element', value=metal_element)",
   "outputs": [
    {
     "name": "stderr",
     "text": "/shared-libs/python3.7/py-core/lib/python3.7/site-packages/ipykernel_launcher.py:48: SettingWithCopyWarning: \nA value is trying to be set on a copy of a slice from a DataFrame\n\nSee the caveats in the documentation: https://pandas.pydata.org/pandas-docs/stable/user_guide/indexing.html#returning-a-view-versus-a-copy\n",
     "output_type": "stream"
    }
   ],
   "execution_count": null
  },
  {
   "cell_type": "markdown",
   "source": "### 4. Metal And Topology ",
   "metadata": {
    "tags": [],
    "is_collapsed": false,
    "cell_id": "00011-6c59a91a-fdec-45ff-888f-60ae3dc78aa5",
    "deepnote_cell_type": "text-cell-h3"
   }
  },
  {
   "cell_type": "code",
   "metadata": {
    "tags": [],
    "cell_id": "00011-72b9fdc9-dcdd-4aa2-aedd-0dacaa3faf42",
    "deepnote_to_be_reexecuted": false,
    "source_hash": "817604be",
    "execution_start": 1633186255260,
    "execution_millis": 141,
    "deepnote_cell_type": "code"
   },
   "source": "def get_topology_group_number(ar):\n    topology_group_list = ['pcu','etb','sra','acs','fof','bcu','nbo','tbo','pts','the','rht']\n    topology_group_index = range(11)\n    tp_d = {a:b for a,b in zip(topology_group_list,topology_group_index)}\n    return tp_d[ar]\ntp = file['topology']\ntp_num = tp.to_numpy()\ntp_1 = np.zeros_like(tp)\nfor i in range(len(tp_num)):\n    tp_1[i] = get_topology_group_number(tp_num[i])\nfile.insert(loc=7, column='topology_num', value=tp_1)",
   "outputs": [],
   "execution_count": null
  },
  {
   "cell_type": "markdown",
   "source": "## Refine &amp; Save File",
   "metadata": {
    "tags": [],
    "is_collapsed": false,
    "cell_id": "00011-0f758a85-410f-4d13-a7a5-c6c606c59507",
    "deepnote_cell_type": "text-cell-h2"
   }
  },
  {
   "cell_type": "code",
   "metadata": {
    "tags": [],
    "cell_id": "00011-c2a2a965-d09c-4741-af69-275685252f2d",
    "deepnote_to_be_reexecuted": false,
    "source_hash": "2664d110",
    "execution_start": 1633186255410,
    "execution_millis": 203,
    "deepnote_cell_type": "code"
   },
   "source": "file = file.drop(['functional_groups','metal_linker','topology'], axis=1)\nfile",
   "outputs": [
    {
     "output_type": "execute_result",
     "execution_count": 6,
     "data": {
      "application/vnd.deepnote.dataframe.v2+json": {
       "row_count": 54074,
       "column_count": 17,
       "columns": [
        {
         "name": "MOFname",
         "dtype": "object",
         "stats": {
          "unique_count": 54074,
          "nan_count": 0,
          "categories": [
           {
            "name": "mof_unit_2",
            "count": 1
           },
           {
            "name": "mof_unit_3",
            "count": 1
           },
           {
            "name": "54072 others",
            "count": 54072
           }
          ]
         }
        },
        {
         "name": "volume [A^3]",
         "dtype": "float64"
        },
        {
         "name": "weight [u]",
         "dtype": "float64"
        },
        {
         "name": "surface_area [m^2/g]",
         "dtype": "float64"
        },
        {
         "name": "volumetric_sa [m^2/cm^3]",
         "dtype": "float64"
        },
        {
         "name": "void_fraction",
         "dtype": "float64"
        },
        {
         "name": "void_volume [cm^3/g]",
         "dtype": "float64"
        },
        {
         "name": "topology_num",
         "dtype": "object"
        },
        {
         "name": "metal_element",
         "dtype": "int64"
        },
        {
         "name": "metal_group",
         "dtype": "int64"
        },
        {
         "name": "functional_group_1",
         "dtype": "object"
        },
        {
         "name": "functional_group_2",
         "dtype": "object"
        },
        {
         "name": "organic_linker1",
         "dtype": "int64"
        },
        {
         "name": "organic_linker2",
         "dtype": "int64"
        },
        {
         "name": "CO2/N2_selectivity",
         "dtype": "float64"
        },
        {
         "name": "heat_adsorption_CO2_P0.15bar_T298K [kcal/mol]",
         "dtype": "float64"
        },
        {
         "name": "CO2_working_capacity [mL/g]",
         "dtype": "float64"
        },
        {
         "name": "_deepnote_index_column",
         "dtype": "int64"
        }
       ],
       "rows_top": [
        {
         "MOFname": "mof_unit_2",
         "volume [A^3]": 2769.503842,
         "weight [u]": 2211.697211,
         "surface_area [m^2/g]": 603.61,
         "volumetric_sa [m^2/cm^3]": 800.4364379638749,
         "void_fraction": 0.13794,
         "void_volume [cm^3/g]": 0.104,
         "topology_num": "1",
         "metal_element": 10,
         "metal_group": 2,
         "functional_group_1": "1",
         "functional_group_2": "11",
         "organic_linker1": 44,
         "organic_linker2": 57,
         "CO2/N2_selectivity": 33.61678033,
         "heat_adsorption_CO2_P0.15bar_T298K [kcal/mol]": 7.147286,
         "CO2_working_capacity [mL/g]": 101.22477417834172,
         "_deepnote_index_column": 0
        },
        {
         "MOFname": "mof_unit_3",
         "volume [A^3]": 1089.818728,
         "weight [u]": 773.68796,
         "surface_area [m^2/g]": 788.5,
         "volumetric_sa [m^2/cm^3]": 929.522690117798,
         "void_fraction": 0.14874,
         "void_volume [cm^3/g]": 0.1262,
         "topology_num": "0",
         "metal_element": 2,
         "metal_group": 11,
         "functional_group_1": "11",
         "functional_group_2": "9",
         "organic_linker1": 22,
         "organic_linker2": 24,
         "CO2/N2_selectivity": 19.26372569,
         "heat_adsorption_CO2_P0.15bar_T298K [kcal/mol]": 6.347967,
         "CO2_working_capacity [mL/g]": 118.98701074687752,
         "_deepnote_index_column": 1
        },
        {
         "MOFname": "mof_unit_4",
         "volume [A^3]": 2205.198301000001,
         "weight [u]": 1304.63872,
         "surface_area [m^2/g]": 1441.53,
         "volumetric_sa [m^2/cm^3]": 1416.1622900298714,
         "void_fraction": 0.21814,
         "void_volume [cm^3/g]": 0.222,
         "topology_num": "2",
         "metal_element": 9,
         "metal_group": 5,
         "functional_group_1": "20",
         "functional_group_2": "19",
         "organic_linker1": 17,
         "organic_linker2": 24,
         "CO2/N2_selectivity": 25.70137692,
         "heat_adsorption_CO2_P0.15bar_T298K [kcal/mol]": 6.190085,
         "CO2_working_capacity [mL/g]": 187.62600449626183,
         "_deepnote_index_column": 2
        },
        {
         "MOFname": "mof_unit_6",
         "volume [A^3]": 3954.659761,
         "weight [u]": 1543.02768,
         "surface_area [m^2/g]": 2430.55,
         "volumetric_sa [m^2/cm^3]": 1574.7654492096156,
         "void_fraction": 0.37094,
         "void_volume [cm^3/g]": 0.5725,
         "topology_num": "2",
         "metal_element": 9,
         "metal_group": 5,
         "functional_group_1": "7",
         "functional_group_2": "17",
         "organic_linker1": 7,
         "organic_linker2": 23,
         "CO2/N2_selectivity": 17.14654102,
         "heat_adsorption_CO2_P0.15bar_T298K [kcal/mol]": 5.398304,
         "CO2_working_capacity [mL/g]": 55.7869591021412,
         "_deepnote_index_column": 3
        },
        {
         "MOFname": "mof_unit_7",
         "volume [A^3]": 3565.914939,
         "weight [u]": 1954.749656,
         "surface_area [m^2/g]": 1530.02,
         "volumetric_sa [m^2/cm^3]": 1392.7206021942811,
         "void_fraction": 0.33337,
         "void_volume [cm^3/g]": 0.3662,
         "topology_num": "1",
         "metal_element": 10,
         "metal_group": 2,
         "functional_group_1": "14",
         "functional_group_2": "14",
         "organic_linker1": 53,
         "organic_linker2": 55,
         "CO2/N2_selectivity": 18.36379134,
         "heat_adsorption_CO2_P0.15bar_T298K [kcal/mol]": 6.303857,
         "CO2_working_capacity [mL/g]": 111.69046224719489,
         "_deepnote_index_column": 4
        },
        {
         "MOFname": "mof_unit_8",
         "volume [A^3]": 916.043907,
         "weight [u]": 639.11156,
         "surface_area [m^2/g]": 1685.58,
         "volumetric_sa [m^2/cm^3]": 1952.7942082899744,
         "void_fraction": 0.28458,
         "void_volume [cm^3/g]": 0.2456,
         "topology_num": "0",
         "metal_element": 2,
         "metal_group": 11,
         "functional_group_1": "3",
         "functional_group_2": "3",
         "organic_linker1": 5,
         "organic_linker2": 13,
         "CO2/N2_selectivity": 12.68480443,
         "heat_adsorption_CO2_P0.15bar_T298K [kcal/mol]": 5.234732,
         "CO2_working_capacity [mL/g]": 58.98977428711081,
         "_deepnote_index_column": 5
        },
        {
         "MOFname": "mof_unit_9",
         "volume [A^3]": 2228.882339,
         "weight [u]": 1422.69182,
         "surface_area [m^2/g]": 1458.02,
         "volumetric_sa [m^2/cm^3]": 1545.375059584175,
         "void_fraction": 0.2427699999999999,
         "void_volume [cm^3/g]": 0.2291,
         "topology_num": "3",
         "metal_element": 4,
         "metal_group": 6,
         "functional_group_1": "8",
         "functional_group_2": "8",
         "organic_linker1": 14,
         "organic_linker2": 19,
         "CO2/N2_selectivity": 37.04042435,
         "heat_adsorption_CO2_P0.15bar_T298K [kcal/mol]": 6.298964,
         "CO2_working_capacity [mL/g]": 135.58710841724886,
         "_deepnote_index_column": 6
        },
        {
         "MOFname": "mof_unit_10",
         "volume [A^3]": 4275.4214200000015,
         "weight [u]": 1606.196,
         "surface_area [m^2/g]": 3276.11,
         "volumetric_sa [m^2/cm^3]": 2043.7360840065544,
         "void_fraction": 0.4100399999999999,
         "void_volume [cm^3/g]": 0.6573,
         "topology_num": "0",
         "metal_element": 1,
         "metal_group": 12,
         "functional_group_1": "16",
         "functional_group_2": "10",
         "organic_linker1": 13,
         "organic_linker2": 29,
         "CO2/N2_selectivity": 10.9992991,
         "heat_adsorption_CO2_P0.15bar_T298K [kcal/mol]": 5.539327,
         "CO2_working_capacity [mL/g]": 59.73905673864041,
         "_deepnote_index_column": 7
        },
        {
         "MOFname": "mof_unit_11",
         "volume [A^3]": 1607.935338,
         "weight [u]": 1110.38712,
         "surface_area [m^2/g]": 1098.36,
         "volumetric_sa [m^2/cm^3]": 1259.4973851918496,
         "void_fraction": 0.18787,
         "void_volume [cm^3/g]": 0.1638,
         "topology_num": "2",
         "metal_element": 9,
         "metal_group": 5,
         "functional_group_1": "19",
         "functional_group_2": "19",
         "organic_linker1": 1,
         "organic_linker2": 24,
         "CO2/N2_selectivity": 24.25902464,
         "heat_adsorption_CO2_P0.15bar_T298K [kcal/mol]": 5.926444,
         "CO2_working_capacity [mL/g]": 161.06749898914796,
         "_deepnote_index_column": 8
        },
        {
         "MOFname": "mof_unit_13",
         "volume [A^3]": 1650.879383,
         "weight [u]": 796.6896799999998,
         "surface_area [m^2/g]": 2117.01,
         "volumetric_sa [m^2/cm^3]": 1696.4594501273705,
         "void_fraction": 0.30405,
         "void_volume [cm^3/g]": 0.3794,
         "topology_num": "0",
         "metal_element": 2,
         "metal_group": 11,
         "functional_group_1": "16",
         "functional_group_2": "17",
         "organic_linker1": 4,
         "organic_linker2": 6,
         "CO2/N2_selectivity": 12.99674112,
         "heat_adsorption_CO2_P0.15bar_T298K [kcal/mol]": 4.936655,
         "CO2_working_capacity [mL/g]": 79.91916950624072,
         "_deepnote_index_column": 9
        },
        {
         "MOFname": "mof_unit_15",
         "volume [A^3]": 1769.973982,
         "weight [u]": 945.403413,
         "surface_area [m^2/g]": 1870.11,
         "volumetric_sa [m^2/cm^3]": 1658.6859352714234,
         "void_fraction": 0.27705,
         "void_volume [cm^3/g]": 0.3124,
         "topology_num": "0",
         "metal_element": 1,
         "metal_group": 12,
         "functional_group_1": "1",
         "functional_group_2": "11",
         "organic_linker1": 4,
         "organic_linker2": 26,
         "CO2/N2_selectivity": 17.01166312,
         "heat_adsorption_CO2_P0.15bar_T298K [kcal/mol]": 5.139598,
         "CO2_working_capacity [mL/g]": 62.32762208837282,
         "_deepnote_index_column": 10
        },
        {
         "MOFname": "mof_unit_16",
         "volume [A^3]": 4282.561071,
         "weight [u]": 2478.166816,
         "surface_area [m^2/g]": 1294.48,
         "volumetric_sa [m^2/cm^3]": 1243.852958372718,
         "void_fraction": 0.28607,
         "void_volume [cm^3/g]": 0.2977,
         "topology_num": "1",
         "metal_element": 10,
         "metal_group": 2,
         "functional_group_1": "11",
         "functional_group_2": "14",
         "organic_linker1": 52,
         "organic_linker2": 54,
         "CO2/N2_selectivity": 19.28955582,
         "heat_adsorption_CO2_P0.15bar_T298K [kcal/mol]": 5.867149,
         "CO2_working_capacity [mL/g]": 54.93615457357025,
         "_deepnote_index_column": 11
        },
        {
         "MOFname": "mof_unit_17",
         "volume [A^3]": 7840.492345,
         "weight [u]": 4627.98816,
         "surface_area [m^2/g]": 1664.62,
         "volumetric_sa [m^2/cm^3]": 1631.5888867279627,
         "void_fraction": 0.26885,
         "void_volume [cm^3/g]": 0.2743,
         "topology_num": "4",
         "metal_element": 2,
         "metal_group": 11,
         "functional_group_1": "2",
         "functional_group_2": "7",
         "organic_linker1": 38,
         "organic_linker2": 41,
         "CO2/N2_selectivity": 15.894512699999998,
         "heat_adsorption_CO2_P0.15bar_T298K [kcal/mol]": 5.390903,
         "CO2_working_capacity [mL/g]": 98.10944956383052,
         "_deepnote_index_column": 12
        },
        {
         "MOFname": "mof_unit_18",
         "volume [A^3]": 2252.940492,
         "weight [u]": 1583.399493,
         "surface_area [m^2/g]": 851.0399999999998,
         "volumetric_sa [m^2/cm^3]": 993.2017590772934,
         "void_fraction": 0.15162,
         "void_volume [cm^3/g]": 0.1299,
         "topology_num": "0",
         "metal_element": 2,
         "metal_group": 11,
         "functional_group_1": "5",
         "functional_group_2": "1",
         "organic_linker1": 14,
         "organic_linker2": 14,
         "CO2/N2_selectivity": 35.34220222,
         "heat_adsorption_CO2_P0.15bar_T298K [kcal/mol]": 7.488088999999999,
         "CO2_working_capacity [mL/g]": 324.0160452431515,
         "_deepnote_index_column": 13
        },
        {
         "MOFname": "mof_unit_19",
         "volume [A^3]": 2334.528642,
         "weight [u]": 937.8558,
         "surface_area [m^2/g]": 2773.01,
         "volumetric_sa [m^2/cm^3]": 1849.8436534131838,
         "void_fraction": 0.41436,
         "void_volume [cm^3/g]": 0.6211,
         "topology_num": "0",
         "metal_element": 2,
         "metal_group": 11,
         "functional_group_1": "19",
         "functional_group_2": "7",
         "organic_linker1": 8,
         "organic_linker2": 10,
         "CO2/N2_selectivity": 11.94115719,
         "heat_adsorption_CO2_P0.15bar_T298K [kcal/mol]": 5.547678,
         "CO2_working_capacity [mL/g]": 60.05088633787799,
         "_deepnote_index_column": 14
        },
        {
         "MOFname": "mof_unit_21",
         "volume [A^3]": 1585.308617,
         "weight [u]": 866.6691800000001,
         "surface_area [m^2/g]": 1825.67,
         "volumetric_sa [m^2/cm^3]": 1657.3282675802388,
         "void_fraction": 0.31685,
         "void_volume [cm^3/g]": 0.349,
         "topology_num": "0",
         "metal_element": 1,
         "metal_group": 12,
         "functional_group_1": "20",
         "functional_group_2": "2",
         "organic_linker1": 14,
         "organic_linker2": 17,
         "CO2/N2_selectivity": 14.56002553,
         "heat_adsorption_CO2_P0.15bar_T298K [kcal/mol]": 5.713488,
         "CO2_working_capacity [mL/g]": 104.97861488065128,
         "_deepnote_index_column": 15
        },
        {
         "MOFname": "mof_unit_22",
         "volume [A^3]": 3409.7421659999995,
         "weight [u]": 1812.74148,
         "surface_area [m^2/g]": 1922.93,
         "volumetric_sa [m^2/cm^3]": 1697.557655685585,
         "void_fraction": 0.2672,
         "void_volume [cm^3/g]": 0.3027,
         "topology_num": "2",
         "metal_element": 9,
         "metal_group": 5,
         "functional_group_1": "9",
         "functional_group_2": "10",
         "organic_linker1": 7,
         "organic_linker2": 16,
         "CO2/N2_selectivity": 40.54284142,
         "heat_adsorption_CO2_P0.15bar_T298K [kcal/mol]": 6.425527,
         "CO2_working_capacity [mL/g]": 230.6995932515091,
         "_deepnote_index_column": 16
        },
        {
         "MOFname": "mof_unit_23",
         "volume [A^3]": 4366.170427,
         "weight [u]": 1937.4993600000007,
         "surface_area [m^2/g]": 2148.78,
         "volumetric_sa [m^2/cm^3]": 1583.3596135241235,
         "void_fraction": 0.2641699999999999,
         "void_volume [cm^3/g]": 0.3585,
         "topology_num": "2",
         "metal_element": 9,
         "metal_group": 5,
         "functional_group_1": "6",
         "functional_group_2": "10",
         "organic_linker1": 18,
         "organic_linker2": 27,
         "CO2/N2_selectivity": 56.34296165,
         "heat_adsorption_CO2_P0.15bar_T298K [kcal/mol]": 6.857435000000001,
         "CO2_working_capacity [mL/g]": 252.38041691729305,
         "_deepnote_index_column": 17
        },
        {
         "MOFname": "mof_unit_24",
         "volume [A^3]": 1906.333143,
         "weight [u]": 1033.97772,
         "surface_area [m^2/g]": 1523.05,
         "volumetric_sa [m^2/cm^3]": 1371.7446322437586,
         "void_fraction": 0.2350699999999999,
         "void_volume [cm^3/g]": 0.261,
         "topology_num": "0",
         "metal_element": 2,
         "metal_group": 11,
         "functional_group_1": "10",
         "functional_group_2": "7",
         "organic_linker1": 16,
         "organic_linker2": 18,
         "CO2/N2_selectivity": 22.9136176,
         "heat_adsorption_CO2_P0.15bar_T298K [kcal/mol]": 6.870048,
         "CO2_working_capacity [mL/g]": 262.6415751431312,
         "_deepnote_index_column": 18
        },
        {
         "MOFname": "mof_unit_25",
         "volume [A^3]": 1803.619737,
         "weight [u]": 973.70752,
         "surface_area [m^2/g]": 1957.26,
         "volumetric_sa [m^2/cm^3]": 1754.602693807306,
         "void_fraction": 0.27738,
         "void_volume [cm^3/g]": 0.3094,
         "topology_num": "0",
         "metal_element": 2,
         "metal_group": 11,
         "functional_group_1": "19",
         "functional_group_2": "9",
         "organic_linker1": 2,
         "organic_linker2": 10,
         "CO2/N2_selectivity": 23.01799947,
         "heat_adsorption_CO2_P0.15bar_T298K [kcal/mol]": 6.021285,
         "CO2_working_capacity [mL/g]": 136.52804474104678,
         "_deepnote_index_column": 19
        },
        {
         "MOFname": "mof_unit_26",
         "volume [A^3]": 2777.131295,
         "weight [u]": 1480.42508,
         "surface_area [m^2/g]": 1135.53,
         "volumetric_sa [m^2/cm^3]": 1005.1603760325086,
         "void_fraction": 0.1655599999999999,
         "void_volume [cm^3/g]": 0.187,
         "topology_num": "0",
         "metal_element": 2,
         "metal_group": 11,
         "functional_group_1": "12",
         "functional_group_2": "20",
         "organic_linker1": 12,
         "organic_linker2": 29,
         "CO2/N2_selectivity": 26.1894427,
         "heat_adsorption_CO2_P0.15bar_T298K [kcal/mol]": 7.153111,
         "CO2_working_capacity [mL/g]": 346.0309838421578,
         "_deepnote_index_column": 20
        },
        {
         "MOFname": "mof_unit_27",
         "volume [A^3]": 1629.942174,
         "weight [u]": 1093.94384,
         "surface_area [m^2/g]": 1139.7,
         "volumetric_sa [m^2/cm^3]": 1270.1648921910514,
         "void_fraction": 0.20692,
         "void_volume [cm^3/g]": 0.1857,
         "topology_num": "0",
         "metal_element": 2,
         "metal_group": 11,
         "functional_group_1": "19",
         "functional_group_2": "12",
         "organic_linker1": 13,
         "organic_linker2": 14,
         "CO2/N2_selectivity": 22.47671204,
         "heat_adsorption_CO2_P0.15bar_T298K [kcal/mol]": 6.1497,
         "CO2_working_capacity [mL/g]": 100.479453563965,
         "_deepnote_index_column": 21
        },
        {
         "MOFname": "mof_unit_28",
         "volume [A^3]": 1208.371986,
         "weight [u]": 655.4740400000002,
         "surface_area [m^2/g]": 2286.28,
         "volumetric_sa [m^2/cm^3]": 2059.353922224966,
         "void_fraction": 0.26882,
         "void_volume [cm^3/g]": 0.2984,
         "topology_num": "0",
         "metal_element": 2,
         "metal_group": 11,
         "functional_group_1": "11",
         "functional_group_2": "11",
         "organic_linker1": 5,
         "organic_linker2": 8,
         "CO2/N2_selectivity": 14.97878372,
         "heat_adsorption_CO2_P0.15bar_T298K [kcal/mol]": 5.160807,
         "CO2_working_capacity [mL/g]": 75.63295693651922,
         "_deepnote_index_column": 22
        },
        {
         "MOFname": "mof_unit_29",
         "volume [A^3]": 8686.956791,
         "weight [u]": 4552.65248,
         "surface_area [m^2/g]": 1765.83,
         "volumetric_sa [m^2/cm^3]": 1536.7119059523861,
         "void_fraction": 0.28834,
         "void_volume [cm^3/g]": 0.3313,
         "topology_num": "0",
         "metal_element": 1,
         "metal_group": 12,
         "functional_group_1": "7",
         "functional_group_2": "17",
         "organic_linker1": 5,
         "organic_linker2": 17,
         "CO2/N2_selectivity": 14.96061853,
         "heat_adsorption_CO2_P0.15bar_T298K [kcal/mol]": 5.359237,
         "CO2_working_capacity [mL/g]": 69.8726107928477,
         "_deepnote_index_column": 23
        },
        {
         "MOFname": "mof_unit_30",
         "volume [A^3]": 1824.319922,
         "weight [u]": 1059.29236,
         "surface_area [m^2/g]": 2112.92,
         "volumetric_sa [m^2/cm^3]": 2037.2513741991281,
         "void_fraction": 0.31239,
         "void_volume [cm^3/g]": 0.324,
         "topology_num": "0",
         "metal_element": 2,
         "metal_group": 11,
         "functional_group_1": "6",
         "functional_group_2": "3",
         "organic_linker1": 4,
         "organic_linker2": 7,
         "CO2/N2_selectivity": 11.22829945,
         "heat_adsorption_CO2_P0.15bar_T298K [kcal/mol]": 5.341077,
         "CO2_working_capacity [mL/g]": 66.1344523626015,
         "_deepnote_index_column": 24
        },
        {
         "MOFname": "mof_unit_31",
         "volume [A^3]": 2270.674945,
         "weight [u]": 1520.58351,
         "surface_area [m^2/g]": 1474,
         "volumetric_sa [m^2/cm^3]": 1639.0776117279065,
         "void_fraction": 0.24855,
         "void_volume [cm^3/g]": 0.2235,
         "topology_num": "3",
         "metal_element": 4,
         "metal_group": 6,
         "functional_group_1": "10",
         "functional_group_2": "1",
         "organic_linker1": 4,
         "organic_linker2": 19,
         "CO2/N2_selectivity": 25.46720601,
         "heat_adsorption_CO2_P0.15bar_T298K [kcal/mol]": 6.200198,
         "CO2_working_capacity [mL/g]": 84.03997537483141,
         "_deepnote_index_column": 25
        },
        {
         "MOFname": "mof_unit_32",
         "volume [A^3]": 2648.735681,
         "weight [u]": 1800.495496,
         "surface_area [m^2/g]": 1068.24,
         "volumetric_sa [m^2/cm^3]": 1205.782508522854,
         "void_fraction": 0.22341,
         "void_volume [cm^3/g]": 0.1979,
         "topology_num": "1",
         "metal_element": 10,
         "metal_group": 2,
         "functional_group_1": "17",
         "functional_group_2": "14",
         "organic_linker1": 44,
         "organic_linker2": 56,
         "CO2/N2_selectivity": 28.8402435,
         "heat_adsorption_CO2_P0.15bar_T298K [kcal/mol]": 5.997696,
         "CO2_working_capacity [mL/g]": 77.21637118526823,
         "_deepnote_index_column": 26
        },
        {
         "MOFname": "mof_unit_33",
         "volume [A^3]": 1811.246493,
         "weight [u]": 957.79592,
         "surface_area [m^2/g]": 2277.35,
         "volumetric_sa [m^2/cm^3]": 1999.7326278506223,
         "void_fraction": 0.27907,
         "void_volume [cm^3/g]": 0.3178,
         "topology_num": "0",
         "metal_element": 2,
         "metal_group": 11,
         "functional_group_1": "19",
         "functional_group_2": "19",
         "organic_linker1": 2,
         "organic_linker2": 10,
         "CO2/N2_selectivity": 30.67616776,
         "heat_adsorption_CO2_P0.15bar_T298K [kcal/mol]": 5.951407,
         "CO2_working_capacity [mL/g]": 264.7743641437397,
         "_deepnote_index_column": 27
        },
        {
         "MOFname": "mof_unit_34",
         "volume [A^3]": 2300.488977,
         "weight [u]": 982.03564,
         "surface_area [m^2/g]": 2909.69,
         "volumetric_sa [m^2/cm^3]": 2062.5312647461938,
         "void_fraction": 0.33992,
         "void_volume [cm^3/g]": 0.4795,
         "topology_num": "0",
         "metal_element": 2,
         "metal_group": 11,
         "functional_group_1": "16",
         "functional_group_2": "5",
         "organic_linker1": 2,
         "organic_linker2": 9,
         "CO2/N2_selectivity": 16.2403506,
         "heat_adsorption_CO2_P0.15bar_T298K [kcal/mol]": 5.48463,
         "CO2_working_capacity [mL/g]": 62.92916102941136,
         "_deepnote_index_column": 28
        }
       ],
       "rows_bottom": [
        {
         "MOFname": "mof_unit_66496",
         "volume [A^3]": 8757.277240000003,
         "weight [u]": 4653.560544,
         "surface_area [m^2/g]": 2515.72,
         "volumetric_sa [m^2/cm^3]": 2219.8585310574026,
         "void_fraction": 0.49166,
         "void_volume [cm^3/g]": 0.5572,
         "topology_num": "0",
         "metal_element": 1,
         "metal_group": 12,
         "functional_group_1": "1",
         "functional_group_2": "3",
         "organic_linker1": 1,
         "organic_linker2": 11,
         "CO2/N2_selectivity": 5.042533655,
         "heat_adsorption_CO2_P0.15bar_T298K [kcal/mol]": 3.89984,
         "CO2_working_capacity [mL/g]": 3.194891510663955,
         "_deepnote_index_column": 54045
        },
        {
         "MOFname": "mof_unit_66497",
         "volume [A^3]": 15098.490219,
         "weight [u]": 3412.760320000001,
         "surface_area [m^2/g]": 5018.37,
         "volumetric_sa [m^2/cm^3]": 1883.569594117983,
         "void_fraction": 0.66181,
         "void_volume [cm^3/g]": 1.7632,
         "topology_num": "6",
         "metal_element": 2,
         "metal_group": 11,
         "functional_group_1": "12",
         "functional_group_2": "12",
         "organic_linker1": 4,
         "organic_linker2": 25,
         "CO2/N2_selectivity": 3.745566693,
         "heat_adsorption_CO2_P0.15bar_T298K [kcal/mol]": 3.232914,
         "CO2_working_capacity [mL/g]": -3.904060361021108,
         "_deepnote_index_column": 54046
        },
        {
         "MOFname": "mof_unit_66498",
         "volume [A^3]": 3683.502821,
         "weight [u]": 3238.892512,
         "surface_area [m^2/g]": 117.7,
         "volumetric_sa [m^2/cm^3]": 171.85363304866888,
         "void_fraction": 0.03773,
         "void_volume [cm^3/g]": 0.0258,
         "topology_num": "1",
         "metal_element": 10,
         "metal_group": 2,
         "functional_group_1": "14",
         "functional_group_2": "14",
         "organic_linker1": 42,
         "organic_linker2": 42,
         "CO2/N2_selectivity": 33.29617873,
         "heat_adsorption_CO2_P0.15bar_T298K [kcal/mol]": 6.319732,
         "CO2_working_capacity [mL/g]": 21.393755548751567,
         "_deepnote_index_column": 54047
        },
        {
         "MOFname": "mof_unit_66499",
         "volume [A^3]": 32970.167637,
         "weight [u]": 5808.768160000001,
         "surface_area [m^2/g]": 3935.69,
         "volumetric_sa [m^2/cm^3]": 1151.4113267387995,
         "void_fraction": 0.81056,
         "void_volume [cm^3/g]": 2.7706,
         "topology_num": "6",
         "metal_element": 1,
         "metal_group": 12,
         "functional_group_1": "8",
         "functional_group_2": "4",
         "organic_linker1": 20,
         "organic_linker2": 27,
         "CO2/N2_selectivity": 2.925569292,
         "heat_adsorption_CO2_P0.15bar_T298K [kcal/mol]": 2.30272,
         "CO2_working_capacity [mL/g]": -5.848992249966168,
         "_deepnote_index_column": 54048
        },
        {
         "MOFname": "mof_unit_66500",
         "volume [A^3]": 14263.406192,
         "weight [u]": 3834.410918,
         "surface_area [m^2/g]": 4169.34,
         "volumetric_sa [m^2/cm^3]": 1861.1845592100594,
         "void_fraction": 0.63986,
         "void_volume [cm^3/g]": 1.4334,
         "topology_num": "6",
         "metal_element": 1,
         "metal_group": 12,
         "functional_group_1": "1",
         "functional_group_2": "8",
         "organic_linker1": 11,
         "organic_linker2": 17,
         "CO2/N2_selectivity": 4.496794246,
         "heat_adsorption_CO2_P0.15bar_T298K [kcal/mol]": 3.515851,
         "CO2_working_capacity [mL/g]": -3.610389182067343,
         "_deepnote_index_column": 54049
        },
        {
         "MOFname": "mof_unit_66501",
         "volume [A^3]": 3350.477992,
         "weight [u]": 1011.20508,
         "surface_area [m^2/g]": 4311.15,
         "volumetric_sa [m^2/cm^3]": 2160.5898577008547,
         "void_fraction": 0.57512,
         "void_volume [cm^3/g]": 1.1476,
         "topology_num": "0",
         "metal_element": 2,
         "metal_group": 11,
         "functional_group_1": "2",
         "functional_group_2": "2",
         "organic_linker1": 2,
         "organic_linker2": 6,
         "CO2/N2_selectivity": 4.24533991,
         "heat_adsorption_CO2_P0.15bar_T298K [kcal/mol]": 3.5980550000000004,
         "CO2_working_capacity [mL/g]": 1.151243845994115,
         "_deepnote_index_column": 54050
        },
        {
         "MOFname": "mof_unit_66502",
         "volume [A^3]": 3742.16069,
         "weight [u]": 1071.23338,
         "surface_area [m^2/g]": 4655.17,
         "volumetric_sa [m^2/cm^3]": 2212.809036079076,
         "void_fraction": 0.6068899999999999,
         "void_volume [cm^3/g]": 1.2767,
         "topology_num": "0",
         "metal_element": 1,
         "metal_group": 12,
         "functional_group_1": "4",
         "functional_group_2": "4",
         "organic_linker1": 3,
         "organic_linker2": 12,
         "CO2/N2_selectivity": 4.089941704,
         "heat_adsorption_CO2_P0.15bar_T298K [kcal/mol]": 3.453383,
         "CO2_working_capacity [mL/g]": -4.101656989018667,
         "_deepnote_index_column": 54051
        },
        {
         "MOFname": "mof_unit_66503",
         "volume [A^3]": 12222.229745,
         "weight [u]": 5186.18744,
         "surface_area [m^2/g]": 3056.64,
         "volumetric_sa [m^2/cm^3]": 2153.7177351109312,
         "void_fraction": 0.5331600000000001,
         "void_volume [cm^3/g]": 0.7567,
         "topology_num": "0",
         "metal_element": 1,
         "metal_group": 12,
         "functional_group_1": "20",
         "functional_group_2": "3",
         "organic_linker1": 4,
         "organic_linker2": 23,
         "CO2/N2_selectivity": 4.915684483,
         "heat_adsorption_CO2_P0.15bar_T298K [kcal/mol]": 3.725492,
         "CO2_working_capacity [mL/g]": 4.089111171368028,
         "_deepnote_index_column": 54052
        },
        {
         "MOFname": "mof_unit_66504",
         "volume [A^3]": 11965.928955,
         "weight [u]": 3864.78656,
         "surface_area [m^2/g]": 4049.25,
         "volumetric_sa [m^2/cm^3]": 2171.702899913426,
         "void_fraction": 0.53154,
         "void_volume [cm^3/g]": 0.9911,
         "topology_num": "0",
         "metal_element": 1,
         "metal_group": 12,
         "functional_group_1": "16",
         "functional_group_2": "16",
         "organic_linker1": 22,
         "organic_linker2": 25,
         "CO2/N2_selectivity": 5.225211372,
         "heat_adsorption_CO2_P0.15bar_T298K [kcal/mol]": 3.762463,
         "CO2_working_capacity [mL/g]": 4.498996240138236,
         "_deepnote_index_column": 54053
        },
        {
         "MOFname": "mof_unit_66505",
         "volume [A^3]": 3954.814105,
         "weight [u]": 996.91444,
         "surface_area [m^2/g]": 4815.13,
         "volumetric_sa [m^2/cm^3]": 2015.5174161115106,
         "void_fraction": 0.65642,
         "void_volume [cm^3/g]": 1.5682,
         "topology_num": "0",
         "metal_element": 1,
         "metal_group": 12,
         "functional_group_1": "2",
         "functional_group_2": "2",
         "organic_linker1": 8,
         "organic_linker2": 10,
         "CO2/N2_selectivity": 4.429411439,
         "heat_adsorption_CO2_P0.15bar_T298K [kcal/mol]": 3.113156,
         "CO2_working_capacity [mL/g]": -6.171386748277976,
         "_deepnote_index_column": 54054
        },
        {
         "MOFname": "mof_unit_66506",
         "volume [A^3]": 4572.083971,
         "weight [u]": 899.68004,
         "surface_area [m^2/g]": 5634.98,
         "volumetric_sa [m^2/cm^3]": 1841.2509866564992,
         "void_fraction": 0.68506,
         "void_volume [cm^3/g]": 2.0966,
         "topology_num": "0",
         "metal_element": 2,
         "metal_group": 11,
         "functional_group_1": "8",
         "functional_group_2": "8",
         "organic_linker1": 6,
         "organic_linker2": 27,
         "CO2/N2_selectivity": 3.704234441,
         "heat_adsorption_CO2_P0.15bar_T298K [kcal/mol]": 3.011439,
         "CO2_working_capacity [mL/g]": -4.297933004631947,
         "_deepnote_index_column": 54055
        },
        {
         "MOFname": "mof_unit_66507",
         "volume [A^3]": 1185.303201,
         "weight [u]": 950.93616,
         "surface_area [m^2/g]": 1292.34,
         "volumetric_sa [m^2/cm^3]": 1721.6521832789003,
         "void_fraction": 0.2526199999999999,
         "void_volume [cm^3/g]": 0.1896,
         "topology_num": "0",
         "metal_element": 2,
         "metal_group": 11,
         "functional_group_1": "9",
         "functional_group_2": "3",
         "organic_linker1": 12,
         "organic_linker2": 19,
         "CO2/N2_selectivity": 7.8510654729999985,
         "heat_adsorption_CO2_P0.15bar_T298K [kcal/mol]": 4.379991,
         "CO2_working_capacity [mL/g]": 7.483415152057922,
         "_deepnote_index_column": 54056
        },
        {
         "MOFname": "mof_unit_66508",
         "volume [A^3]": 14879.036708,
         "weight [u]": 3242.76936,
         "surface_area [m^2/g]": 5176.33,
         "volumetric_sa [m^2/cm^3]": 1873.311190219633,
         "void_fraction": 0.66906,
         "void_volume [cm^3/g]": 1.8487,
         "topology_num": "6",
         "metal_element": 1,
         "metal_group": 12,
         "functional_group_1": "7",
         "functional_group_2": "7",
         "organic_linker1": 1,
         "organic_linker2": 23,
         "CO2/N2_selectivity": 3.761001968,
         "heat_adsorption_CO2_P0.15bar_T298K [kcal/mol]": 2.993403,
         "CO2_working_capacity [mL/g]": -2.1091830542396064,
         "_deepnote_index_column": 54057
        },
        {
         "MOFname": "mof_unit_66509",
         "volume [A^3]": 4124.627977,
         "weight [u]": 939.646366,
         "surface_area [m^2/g]": 5691.94,
         "volumetric_sa [m^2/cm^3]": 2153.2115210861734,
         "void_fraction": 0.6463,
         "void_volume [cm^3/g]": 1.7085,
         "topology_num": "0",
         "metal_element": 2,
         "metal_group": 11,
         "functional_group_1": "1",
         "functional_group_2": "10",
         "organic_linker1": 21,
         "organic_linker2": 28,
         "CO2/N2_selectivity": 3.499299647,
         "heat_adsorption_CO2_P0.15bar_T298K [kcal/mol]": 2.765098,
         "CO2_working_capacity [mL/g]": -7.77328957040689,
         "_deepnote_index_column": 54058
        },
        {
         "MOFname": "mof_unit_66510",
         "volume [A^3]": 2877.936283,
         "weight [u]": 1696.658166,
         "surface_area [m^2/g]": 2056.3,
         "volumetric_sa [m^2/cm^3]": 2013.012069955386,
         "void_fraction": 0.47765,
         "void_volume [cm^3/g]": 0.4879,
         "topology_num": "0",
         "metal_element": 1,
         "metal_group": 12,
         "functional_group_1": "1",
         "functional_group_2": "4",
         "organic_linker1": 8,
         "organic_linker2": 14,
         "CO2/N2_selectivity": 7.379663654,
         "heat_adsorption_CO2_P0.15bar_T298K [kcal/mol]": 4.309148,
         "CO2_working_capacity [mL/g]": 5.968177517647237,
         "_deepnote_index_column": 54059
        },
        {
         "MOFname": "mof_unit_66511",
         "volume [A^3]": 22414.460966,
         "weight [u]": 3378.3175200000005,
         "surface_area [m^2/g]": 5881.23,
         "volumetric_sa [m^2/cm^3]": 1471.9296591180264,
         "void_fraction": 0.77778,
         "void_volume [cm^3/g]": 3.1077,
         "topology_num": "6",
         "metal_element": 1,
         "metal_group": 12,
         "functional_group_1": "8",
         "functional_group_2": "8",
         "organic_linker1": 6,
         "organic_linker2": 11,
         "CO2/N2_selectivity": 3.4079671460000003,
         "heat_adsorption_CO2_P0.15bar_T298K [kcal/mol]": 2.462803,
         "CO2_working_capacity [mL/g]": -8.438713135534844,
         "_deepnote_index_column": 54060
        },
        {
         "MOFname": "mof_unit_66512",
         "volume [A^3]": 14632.394634,
         "weight [u]": 2357.53424,
         "surface_area [m^2/g]": 4886.25,
         "volumetric_sa [m^2/cm^3]": 1307.2691520081291,
         "void_fraction": 0.7764999999999997,
         "void_volume [cm^3/g]": 2.9024,
         "topology_num": "0",
         "metal_element": 1,
         "metal_group": 12,
         "functional_group_1": "15",
         "functional_group_2": "3",
         "organic_linker1": 28,
         "organic_linker2": 29,
         "CO2/N2_selectivity": 4.188874682,
         "heat_adsorption_CO2_P0.15bar_T298K [kcal/mol]": 3.220736,
         "CO2_working_capacity [mL/g]": -6.624356796085244,
         "_deepnote_index_column": 54061
        },
        {
         "MOFname": "mof_unit_66513",
         "volume [A^3]": 29156.715463,
         "weight [u]": 4470.04024,
         "surface_area [m^2/g]": 5720.93,
         "volumetric_sa [m^2/cm^3]": 1456.4185244447601,
         "void_fraction": 0.7543499999999999,
         "void_volume [cm^3/g]": 2.9631,
         "topology_num": "6",
         "metal_element": 2,
         "metal_group": 11,
         "functional_group_1": "7",
         "functional_group_2": "8",
         "organic_linker1": 17,
         "organic_linker2": 25,
         "CO2/N2_selectivity": 3.664737979,
         "heat_adsorption_CO2_P0.15bar_T298K [kcal/mol]": 3.145731,
         "CO2_working_capacity [mL/g]": -6.830702481128641,
         "_deepnote_index_column": 54062
        },
        {
         "MOFname": "mof_unit_66514",
         "volume [A^3]": 19809.756802,
         "weight [u]": 4678.806477,
         "surface_area [m^2/g]": 4469.41,
         "volumetric_sa [m^2/cm^3]": 1752.88272551913,
         "void_fraction": 0.6725800000000001,
         "void_volume [cm^3/g]": 1.7149,
         "topology_num": "6",
         "metal_element": 1,
         "metal_group": 12,
         "functional_group_1": "1",
         "functional_group_2": "2",
         "organic_linker1": 2,
         "organic_linker2": 9,
         "CO2/N2_selectivity": 5.529955161,
         "heat_adsorption_CO2_P0.15bar_T298K [kcal/mol]": 3.412269,
         "CO2_working_capacity [mL/g]": 0.9486949215555146,
         "_deepnote_index_column": 54063
        },
        {
         "MOFname": "mof_unit_66515",
         "volume [A^3]": 7458.847904000002,
         "weight [u]": 2383.865127,
         "surface_area [m^2/g]": 3625.06,
         "volumetric_sa [m^2/cm^3]": 1923.852865224283,
         "void_fraction": 0.54382,
         "void_volume [cm^3/g]": 1.0247,
         "topology_num": "6",
         "metal_element": 1,
         "metal_group": 12,
         "functional_group_1": "6",
         "functional_group_2": "1",
         "organic_linker1": 4,
         "organic_linker2": 23,
         "CO2/N2_selectivity": 4.248572084,
         "heat_adsorption_CO2_P0.15bar_T298K [kcal/mol]": 3.79478,
         "CO2_working_capacity [mL/g]": 5.125461739929993,
         "_deepnote_index_column": 54064
        },
        {
         "MOFname": "mof_unit_66516",
         "volume [A^3]": 4427.983349,
         "weight [u]": 1960.71144,
         "surface_area [m^2/g]": 2398.38,
         "volumetric_sa [m^2/cm^3]": 1763.487655166994,
         "void_fraction": 0.58292,
         "void_volume [cm^3/g]": 0.7927999999999998,
         "topology_num": "0",
         "metal_element": 1,
         "metal_group": 12,
         "functional_group_1": "14",
         "functional_group_2": "4",
         "organic_linker1": 7,
         "organic_linker2": 17,
         "CO2/N2_selectivity": 5.2664642310000005,
         "heat_adsorption_CO2_P0.15bar_T298K [kcal/mol]": 3.758129,
         "CO2_working_capacity [mL/g]": 6.346202812646742,
         "_deepnote_index_column": 54065
        },
        {
         "MOFname": "mof_unit_66517",
         "volume [A^3]": 117426.309902,
         "weight [u]": 10039.836314,
         "surface_area [m^2/g]": 6351.84,
         "volumetric_sa [m^2/cm^3]": 901.7943185844243,
         "void_fraction": 0.86555,
         "void_volume [cm^3/g]": 6.0965,
         "topology_num": "6",
         "metal_element": 1,
         "metal_group": 12,
         "functional_group_1": "1",
         "functional_group_2": "20",
         "organic_linker1": 3,
         "organic_linker2": 27,
         "CO2/N2_selectivity": 2.542452151,
         "heat_adsorption_CO2_P0.15bar_T298K [kcal/mol]": 2.778698,
         "CO2_working_capacity [mL/g]": -11.847048622807684,
         "_deepnote_index_column": 54066
        },
        {
         "MOFname": "mof_unit_66518",
         "volume [A^3]": 22053.573003,
         "weight [u]": 6292.857279999998,
         "surface_area [m^2/g]": 3474.82,
         "volumetric_sa [m^2/cm^3]": 1646.4477741802045,
         "void_fraction": 0.70533,
         "void_volume [cm^3/g]": 1.4886,
         "topology_num": "0",
         "metal_element": 1,
         "metal_group": 12,
         "functional_group_1": "3",
         "functional_group_2": "3",
         "organic_linker1": 7,
         "organic_linker2": 19,
         "CO2/N2_selectivity": 4.593338943,
         "heat_adsorption_CO2_P0.15bar_T298K [kcal/mol]": 3.136394,
         "CO2_working_capacity [mL/g]": -4.405397837402552,
         "_deepnote_index_column": 54067
        },
        {
         "MOFname": "mof_unit_66519",
         "volume [A^3]": 3763.103252,
         "weight [u]": 979.22892,
         "surface_area [m^2/g]": 5154.42,
         "volumetric_sa [m^2/cm^3]": 2227.227735604315,
         "void_fraction": 0.60648,
         "void_volume [cm^3/g]": 1.4035,
         "topology_num": "0",
         "metal_element": 1,
         "metal_group": 12,
         "functional_group_1": "17",
         "functional_group_2": "17",
         "organic_linker1": 6,
         "organic_linker2": 25,
         "CO2/N2_selectivity": 4.894371444,
         "heat_adsorption_CO2_P0.15bar_T298K [kcal/mol]": 3.400658,
         "CO2_working_capacity [mL/g]": -4.211102740365669,
         "_deepnote_index_column": 54068
        },
        {
         "MOFname": "mof_unit_66520",
         "volume [A^3]": 1426.47981,
         "weight [u]": 1272.45154,
         "surface_area [m^2/g]": 1343.62,
         "volumetric_sa [m^2/cm^3]": 1990.2095619436932,
         "void_fraction": 0.3019,
         "void_volume [cm^3/g]": 0.2038,
         "topology_num": "0",
         "metal_element": 1,
         "metal_group": 12,
         "functional_group_1": "5",
         "functional_group_2": "4",
         "organic_linker1": 12,
         "organic_linker2": 21,
         "CO2/N2_selectivity": 5.867673803,
         "heat_adsorption_CO2_P0.15bar_T298K [kcal/mol]": 4.485481,
         "CO2_working_capacity [mL/g]": 7.602105190094867,
         "_deepnote_index_column": 54069
        },
        {
         "MOFname": "mof_unit_66521",
         "volume [A^3]": 23943.701366,
         "weight [u]": 5497.752320000001,
         "surface_area [m^2/g]": 4182.24,
         "volumetric_sa [m^2/cm^3]": 1594.591926455865,
         "void_fraction": 0.6634,
         "void_volume [cm^3/g]": 1.7399,
         "topology_num": "0",
         "metal_element": 1,
         "metal_group": 12,
         "functional_group_1": "8",
         "functional_group_2": "5",
         "organic_linker1": 9,
         "organic_linker2": 27,
         "CO2/N2_selectivity": 4.0607719730000005,
         "heat_adsorption_CO2_P0.15bar_T298K [kcal/mol]": 3.605688,
         "CO2_working_capacity [mL/g]": 2.675230537450658,
         "_deepnote_index_column": 54070
        },
        {
         "MOFname": "mof_unit_66522",
         "volume [A^3]": 14389.971556,
         "weight [u]": 4396.16432,
         "surface_area [m^2/g]": 4149.64,
         "volumetric_sa [m^2/cm^3]": 2105.0922345089148,
         "void_fraction": 0.5705100000000001,
         "void_volume [cm^3/g]": 1.1246,
         "topology_num": "0",
         "metal_element": 1,
         "metal_group": 12,
         "functional_group_1": "13",
         "functional_group_2": "2",
         "organic_linker1": 9,
         "organic_linker2": 20,
         "CO2/N2_selectivity": 4.313411135,
         "heat_adsorption_CO2_P0.15bar_T298K [kcal/mol]": 3.3612330000000004,
         "CO2_working_capacity [mL/g]": -1.6860918616266212,
         "_deepnote_index_column": 54071
        },
        {
         "MOFname": "mof_unit_66523",
         "volume [A^3]": 16997.806645,
         "weight [u]": 3932.70368,
         "surface_area [m^2/g]": 4326.62,
         "volumetric_sa [m^2/cm^3]": 1662.2403468896637,
         "void_fraction": 0.6696300000000001,
         "void_volume [cm^3/g]": 1.743,
         "topology_num": "6",
         "metal_element": 2,
         "metal_group": 11,
         "functional_group_1": "15",
         "functional_group_2": "15",
         "organic_linker1": 2,
         "organic_linker2": 5,
         "CO2/N2_selectivity": 3.447440153,
         "heat_adsorption_CO2_P0.15bar_T298K [kcal/mol]": 2.781566,
         "CO2_working_capacity [mL/g]": -7.546804546503256,
         "_deepnote_index_column": 54072
        },
        {
         "MOFname": "mof_unit_66524",
         "volume [A^3]": 7391.212512999998,
         "weight [u]": 2142.4686,
         "surface_area [m^2/g]": 3835.28,
         "volumetric_sa [m^2/cm^3]": 1846.0462532192973,
         "void_fraction": 0.52491,
         "void_volume [cm^3/g]": 1.0905,
         "topology_num": "6",
         "metal_element": 1,
         "metal_group": 12,
         "functional_group_1": "6",
         "functional_group_2": "5",
         "organic_linker1": 22,
         "organic_linker2": 23,
         "CO2/N2_selectivity": 4.943256913,
         "heat_adsorption_CO2_P0.15bar_T298K [kcal/mol]": 3.80415,
         "CO2_working_capacity [mL/g]": 4.5873121933367935,
         "_deepnote_index_column": 54073
        }
       ]
      },
      "text/plain": "              MOFname  volume [A^3]   weight [u]  surface_area [m^2/g]  \\\n0          mof_unit_2   2769.503842  2211.697211                603.61   \n1          mof_unit_3   1089.818728   773.687960                788.50   \n2          mof_unit_4   2205.198301  1304.638720               1441.53   \n3          mof_unit_6   3954.659761  1543.027680               2430.55   \n4          mof_unit_7   3565.914939  1954.749656               1530.02   \n...               ...           ...          ...                   ...   \n54069  mof_unit_66520   1426.479810  1272.451540               1343.62   \n54070  mof_unit_66521  23943.701366  5497.752320               4182.24   \n54071  mof_unit_66522  14389.971556  4396.164320               4149.64   \n54072  mof_unit_66523  16997.806645  3932.703680               4326.62   \n54073  mof_unit_66524   7391.212513  2142.468600               3835.28   \n\n       volumetric_sa [m^2/cm^3]  void_fraction  void_volume [cm^3/g]  \\\n0                    800.436438        0.13794                0.1040   \n1                    929.522690        0.14874                0.1262   \n2                   1416.162290        0.21814                0.2220   \n3                   1574.765449        0.37094                0.5725   \n4                   1392.720602        0.33337                0.3662   \n...                         ...            ...                   ...   \n54069               1990.209562        0.30190                0.2038   \n54070               1594.591926        0.66340                1.7399   \n54071               2105.092235        0.57051                1.1246   \n54072               1662.240347        0.66963                1.7430   \n54073               1846.046253        0.52491                1.0905   \n\n      topology_num  metal_element  metal_group functional_group_1  \\\n0                1             10            2                  1   \n1                0              2           11                 11   \n2                2              9            5                 20   \n3                2              9            5                  7   \n4                1             10            2                 14   \n...            ...            ...          ...                ...   \n54069            0              1           12                  5   \n54070            0              1           12                  8   \n54071            0              1           12                 13   \n54072            6              2           11                 15   \n54073            6              1           12                  6   \n\n      functional_group_2  organic_linker1  organic_linker2  \\\n0                     11               44               57   \n1                      9               22               24   \n2                     19               17               24   \n3                     17                7               23   \n4                     14               53               55   \n...                  ...              ...              ...   \n54069                  4               12               21   \n54070                  5                9               27   \n54071                  2                9               20   \n54072                 15                2                5   \n54073                  5               22               23   \n\n       CO2/N2_selectivity  heat_adsorption_CO2_P0.15bar_T298K [kcal/mol]  \\\n0               33.616780                                       7.147286   \n1               19.263726                                       6.347967   \n2               25.701377                                       6.190085   \n3               17.146541                                       5.398304   \n4               18.363791                                       6.303857   \n...                   ...                                            ...   \n54069            5.867674                                       4.485481   \n54070            4.060772                                       3.605688   \n54071            4.313411                                       3.361233   \n54072            3.447440                                       2.781566   \n54073            4.943257                                       3.804150   \n\n       CO2_working_capacity [mL/g]  \n0                       101.224774  \n1                       118.987011  \n2                       187.626004  \n3                        55.786959  \n4                       111.690462  \n...                            ...  \n54069                     7.602105  \n54070                     2.675231  \n54071                    -1.686092  \n54072                    -7.546805  \n54073                     4.587312  \n\n[54074 rows x 17 columns]",
      "text/html": "<div>\n<style scoped>\n    .dataframe tbody tr th:only-of-type {\n        vertical-align: middle;\n    }\n\n    .dataframe tbody tr th {\n        vertical-align: top;\n    }\n\n    .dataframe thead th {\n        text-align: right;\n    }\n</style>\n<table border=\"1\" class=\"dataframe\">\n  <thead>\n    <tr style=\"text-align: right;\">\n      <th></th>\n      <th>MOFname</th>\n      <th>volume [A^3]</th>\n      <th>weight [u]</th>\n      <th>surface_area [m^2/g]</th>\n      <th>volumetric_sa [m^2/cm^3]</th>\n      <th>void_fraction</th>\n      <th>void_volume [cm^3/g]</th>\n      <th>topology_num</th>\n      <th>metal_element</th>\n      <th>metal_group</th>\n      <th>functional_group_1</th>\n      <th>functional_group_2</th>\n      <th>organic_linker1</th>\n      <th>organic_linker2</th>\n      <th>CO2/N2_selectivity</th>\n      <th>heat_adsorption_CO2_P0.15bar_T298K [kcal/mol]</th>\n      <th>CO2_working_capacity [mL/g]</th>\n    </tr>\n  </thead>\n  <tbody>\n    <tr>\n      <th>0</th>\n      <td>mof_unit_2</td>\n      <td>2769.503842</td>\n      <td>2211.697211</td>\n      <td>603.61</td>\n      <td>800.436438</td>\n      <td>0.13794</td>\n      <td>0.1040</td>\n      <td>1</td>\n      <td>10</td>\n      <td>2</td>\n      <td>1</td>\n      <td>11</td>\n      <td>44</td>\n      <td>57</td>\n      <td>33.616780</td>\n      <td>7.147286</td>\n      <td>101.224774</td>\n    </tr>\n    <tr>\n      <th>1</th>\n      <td>mof_unit_3</td>\n      <td>1089.818728</td>\n      <td>773.687960</td>\n      <td>788.50</td>\n      <td>929.522690</td>\n      <td>0.14874</td>\n      <td>0.1262</td>\n      <td>0</td>\n      <td>2</td>\n      <td>11</td>\n      <td>11</td>\n      <td>9</td>\n      <td>22</td>\n      <td>24</td>\n      <td>19.263726</td>\n      <td>6.347967</td>\n      <td>118.987011</td>\n    </tr>\n    <tr>\n      <th>2</th>\n      <td>mof_unit_4</td>\n      <td>2205.198301</td>\n      <td>1304.638720</td>\n      <td>1441.53</td>\n      <td>1416.162290</td>\n      <td>0.21814</td>\n      <td>0.2220</td>\n      <td>2</td>\n      <td>9</td>\n      <td>5</td>\n      <td>20</td>\n      <td>19</td>\n      <td>17</td>\n      <td>24</td>\n      <td>25.701377</td>\n      <td>6.190085</td>\n      <td>187.626004</td>\n    </tr>\n    <tr>\n      <th>3</th>\n      <td>mof_unit_6</td>\n      <td>3954.659761</td>\n      <td>1543.027680</td>\n      <td>2430.55</td>\n      <td>1574.765449</td>\n      <td>0.37094</td>\n      <td>0.5725</td>\n      <td>2</td>\n      <td>9</td>\n      <td>5</td>\n      <td>7</td>\n      <td>17</td>\n      <td>7</td>\n      <td>23</td>\n      <td>17.146541</td>\n      <td>5.398304</td>\n      <td>55.786959</td>\n    </tr>\n    <tr>\n      <th>4</th>\n      <td>mof_unit_7</td>\n      <td>3565.914939</td>\n      <td>1954.749656</td>\n      <td>1530.02</td>\n      <td>1392.720602</td>\n      <td>0.33337</td>\n      <td>0.3662</td>\n      <td>1</td>\n      <td>10</td>\n      <td>2</td>\n      <td>14</td>\n      <td>14</td>\n      <td>53</td>\n      <td>55</td>\n      <td>18.363791</td>\n      <td>6.303857</td>\n      <td>111.690462</td>\n    </tr>\n    <tr>\n      <th>...</th>\n      <td>...</td>\n      <td>...</td>\n      <td>...</td>\n      <td>...</td>\n      <td>...</td>\n      <td>...</td>\n      <td>...</td>\n      <td>...</td>\n      <td>...</td>\n      <td>...</td>\n      <td>...</td>\n      <td>...</td>\n      <td>...</td>\n      <td>...</td>\n      <td>...</td>\n      <td>...</td>\n      <td>...</td>\n    </tr>\n    <tr>\n      <th>54069</th>\n      <td>mof_unit_66520</td>\n      <td>1426.479810</td>\n      <td>1272.451540</td>\n      <td>1343.62</td>\n      <td>1990.209562</td>\n      <td>0.30190</td>\n      <td>0.2038</td>\n      <td>0</td>\n      <td>1</td>\n      <td>12</td>\n      <td>5</td>\n      <td>4</td>\n      <td>12</td>\n      <td>21</td>\n      <td>5.867674</td>\n      <td>4.485481</td>\n      <td>7.602105</td>\n    </tr>\n    <tr>\n      <th>54070</th>\n      <td>mof_unit_66521</td>\n      <td>23943.701366</td>\n      <td>5497.752320</td>\n      <td>4182.24</td>\n      <td>1594.591926</td>\n      <td>0.66340</td>\n      <td>1.7399</td>\n      <td>0</td>\n      <td>1</td>\n      <td>12</td>\n      <td>8</td>\n      <td>5</td>\n      <td>9</td>\n      <td>27</td>\n      <td>4.060772</td>\n      <td>3.605688</td>\n      <td>2.675231</td>\n    </tr>\n    <tr>\n      <th>54071</th>\n      <td>mof_unit_66522</td>\n      <td>14389.971556</td>\n      <td>4396.164320</td>\n      <td>4149.64</td>\n      <td>2105.092235</td>\n      <td>0.57051</td>\n      <td>1.1246</td>\n      <td>0</td>\n      <td>1</td>\n      <td>12</td>\n      <td>13</td>\n      <td>2</td>\n      <td>9</td>\n      <td>20</td>\n      <td>4.313411</td>\n      <td>3.361233</td>\n      <td>-1.686092</td>\n    </tr>\n    <tr>\n      <th>54072</th>\n      <td>mof_unit_66523</td>\n      <td>16997.806645</td>\n      <td>3932.703680</td>\n      <td>4326.62</td>\n      <td>1662.240347</td>\n      <td>0.66963</td>\n      <td>1.7430</td>\n      <td>6</td>\n      <td>2</td>\n      <td>11</td>\n      <td>15</td>\n      <td>15</td>\n      <td>2</td>\n      <td>5</td>\n      <td>3.447440</td>\n      <td>2.781566</td>\n      <td>-7.546805</td>\n    </tr>\n    <tr>\n      <th>54073</th>\n      <td>mof_unit_66524</td>\n      <td>7391.212513</td>\n      <td>2142.468600</td>\n      <td>3835.28</td>\n      <td>1846.046253</td>\n      <td>0.52491</td>\n      <td>1.0905</td>\n      <td>6</td>\n      <td>1</td>\n      <td>12</td>\n      <td>6</td>\n      <td>5</td>\n      <td>22</td>\n      <td>23</td>\n      <td>4.943257</td>\n      <td>3.804150</td>\n      <td>4.587312</td>\n    </tr>\n  </tbody>\n</table>\n<p>54074 rows × 17 columns</p>\n</div>"
     },
     "metadata": {}
    }
   ],
   "execution_count": null
  },
  {
   "cell_type": "code",
   "source": "file.to_csv('train_preprocessed_021021_1.csv',index=False)",
   "metadata": {
    "tags": [],
    "cell_id": "00014-5647efce-2b62-471a-acc5-14ebd3fb8536",
    "deepnote_to_be_reexecuted": false,
    "source_hash": "c3a94636",
    "execution_start": 1633186476581,
    "execution_millis": 765,
    "deepnote_cell_type": "code"
   },
   "outputs": [],
   "execution_count": null
  },
  {
   "cell_type": "markdown",
   "source": "",
   "metadata": {
    "tags": [],
    "is_collapsed": false,
    "cell_id": "00013-30362ae1-aa96-4f35-aa0c-d64e492a23af",
    "deepnote_cell_type": "text-cell-p"
   }
  },
  {
   "cell_type": "markdown",
   "source": "## ---------------------------- Note Whatever Below ----------------------------",
   "metadata": {
    "tags": [],
    "is_collapsed": false,
    "cell_id": "00014-1c4615d8-b603-497e-b832-502f18509730",
    "deepnote_cell_type": "text-cell-h2"
   }
  },
  {
   "cell_type": "code",
   "metadata": {
    "tags": [],
    "cell_id": "00011-f963d6b7-8440-4740-8418-849898cf87ea",
    "deepnote_to_be_reexecuted": false,
    "source_hash": "c91eae0e",
    "execution_start": 1633186256793,
    "execution_millis": 138,
    "deepnote_cell_type": "code"
   },
   "source": "file2 = pd.read_csv('/work/tmlcc2021/data/train.csv')\n#file2.info()\nfile3 = file2[file2.functional_groups.isnull()]\nfile3[file3['CO2_working_capacity [mL/g]'] > 400]\n#wc_mean = np.mean(file2['CO2_working_capacity [mL/g]'])\n#wc_mean\n#vv_mean = np.mean(file2['void_volume [cm^3/g]'])\n#vv_mean",
   "outputs": [
    {
     "output_type": "execute_result",
     "execution_count": 8,
     "data": {
      "application/vnd.deepnote.dataframe.v2+json": {
       "row_count": 14,
       "column_count": 14,
       "columns": [
        {
         "name": "MOFname",
         "dtype": "object",
         "stats": {
          "unique_count": 14,
          "nan_count": 0,
          "categories": [
           {
            "name": "mof_unit_3918",
            "count": 1
           },
           {
            "name": "mof_unit_6660",
            "count": 1
           },
           {
            "name": "12 others",
            "count": 12
           }
          ]
         }
        },
        {
         "name": "volume [A^3]",
         "dtype": "float64",
         "stats": {
          "unique_count": 14,
          "nan_count": 0,
          "min": "1737.683999",
          "max": "4147.156231",
          "histogram": [
           {
            "bin_start": 1737.683999,
            "bin_end": 1978.6312222000001,
            "count": 3
           },
           {
            "bin_start": 1978.6312222000001,
            "bin_end": 2219.5784454,
            "count": 3
           },
           {
            "bin_start": 2219.5784454,
            "bin_end": 2460.5256686000002,
            "count": 3
           },
           {
            "bin_start": 2460.5256686000002,
            "bin_end": 2701.4728918,
            "count": 1
           },
           {
            "bin_start": 2701.4728918,
            "bin_end": 2942.420115,
            "count": 0
           },
           {
            "bin_start": 2942.420115,
            "bin_end": 3183.3673381999997,
            "count": 0
           },
           {
            "bin_start": 3183.3673381999997,
            "bin_end": 3424.3145614,
            "count": 1
           },
           {
            "bin_start": 3424.3145614,
            "bin_end": 3665.2617846000003,
            "count": 0
           },
           {
            "bin_start": 3665.2617846000003,
            "bin_end": 3906.2090078,
            "count": 1
           },
           {
            "bin_start": 3906.2090078,
            "bin_end": 4147.156231,
            "count": 2
           }
          ]
         }
        },
        {
         "name": "weight [u]",
         "dtype": "float64",
         "stats": {
          "unique_count": 13,
          "nan_count": 0,
          "min": "899.7197999999999",
          "max": "3042.34936",
          "histogram": [
           {
            "bin_start": 899.7197999999999,
            "bin_end": 1113.9827559999999,
            "count": 2
           },
           {
            "bin_start": 1113.9827559999999,
            "bin_end": 1328.245712,
            "count": 4
           },
           {
            "bin_start": 1328.245712,
            "bin_end": 1542.508668,
            "count": 4
           },
           {
            "bin_start": 1542.508668,
            "bin_end": 1756.771624,
            "count": 1
           },
           {
            "bin_start": 1756.771624,
            "bin_end": 1971.03458,
            "count": 0
           },
           {
            "bin_start": 1971.03458,
            "bin_end": 2185.297536,
            "count": 1
           },
           {
            "bin_start": 2185.297536,
            "bin_end": 2399.560492,
            "count": 0
           },
           {
            "bin_start": 2399.560492,
            "bin_end": 2613.823448,
            "count": 0
           },
           {
            "bin_start": 2613.823448,
            "bin_end": 2828.086404,
            "count": 0
           },
           {
            "bin_start": 2828.086404,
            "bin_end": 3042.34936,
            "count": 2
           }
          ]
         }
        },
        {
         "name": "surface_area [m^2/g]",
         "dtype": "float64",
         "stats": {
          "unique_count": 11,
          "nan_count": 0,
          "min": "0.0",
          "max": "2739.69",
          "histogram": [
           {
            "bin_start": 0,
            "bin_end": 273.969,
            "count": 4
           },
           {
            "bin_start": 273.969,
            "bin_end": 547.938,
            "count": 0
           },
           {
            "bin_start": 547.938,
            "bin_end": 821.9069999999999,
            "count": 1
           },
           {
            "bin_start": 821.9069999999999,
            "bin_end": 1095.876,
            "count": 2
           },
           {
            "bin_start": 1095.876,
            "bin_end": 1369.845,
            "count": 1
           },
           {
            "bin_start": 1369.845,
            "bin_end": 1643.8139999999999,
            "count": 0
           },
           {
            "bin_start": 1643.8139999999999,
            "bin_end": 1917.783,
            "count": 1
           },
           {
            "bin_start": 1917.783,
            "bin_end": 2191.752,
            "count": 2
           },
           {
            "bin_start": 2191.752,
            "bin_end": 2465.721,
            "count": 2
           },
           {
            "bin_start": 2465.721,
            "bin_end": 2739.69,
            "count": 1
           }
          ]
         }
        },
        {
         "name": "void_fraction",
         "dtype": "float64",
         "stats": {
          "unique_count": 14,
          "nan_count": 0,
          "min": "0.09693",
          "max": "0.35854",
          "histogram": [
           {
            "bin_start": 0.09693,
            "bin_end": 0.123091,
            "count": 2
           },
           {
            "bin_start": 0.123091,
            "bin_end": 0.149252,
            "count": 1
           },
           {
            "bin_start": 0.149252,
            "bin_end": 0.17541299999999999,
            "count": 4
           },
           {
            "bin_start": 0.17541299999999999,
            "bin_end": 0.201574,
            "count": 0
           },
           {
            "bin_start": 0.201574,
            "bin_end": 0.22773500000000002,
            "count": 3
           },
           {
            "bin_start": 0.22773500000000002,
            "bin_end": 0.253896,
            "count": 0
           },
           {
            "bin_start": 0.253896,
            "bin_end": 0.280057,
            "count": 2
           },
           {
            "bin_start": 0.280057,
            "bin_end": 0.306218,
            "count": 1
           },
           {
            "bin_start": 0.306218,
            "bin_end": 0.332379,
            "count": 0
           },
           {
            "bin_start": 0.332379,
            "bin_end": 0.35854,
            "count": 1
           }
          ]
         }
        },
        {
         "name": "void_volume [cm^3/g]",
         "dtype": "float64",
         "stats": {
          "unique_count": 14,
          "nan_count": 0,
          "min": "0.0890999999999999",
          "max": "0.4082",
          "histogram": [
           {
            "bin_start": 0.0890999999999999,
            "bin_end": 0.12100999999999991,
            "count": 2
           },
           {
            "bin_start": 0.12100999999999991,
            "bin_end": 0.15291999999999992,
            "count": 4
           },
           {
            "bin_start": 0.15291999999999992,
            "bin_end": 0.18482999999999994,
            "count": 1
           },
           {
            "bin_start": 0.18482999999999994,
            "bin_end": 0.21673999999999993,
            "count": 1
           },
           {
            "bin_start": 0.21673999999999993,
            "bin_end": 0.24864999999999993,
            "count": 2
           },
           {
            "bin_start": 0.24864999999999993,
            "bin_end": 0.2805599999999999,
            "count": 0
           },
           {
            "bin_start": 0.2805599999999999,
            "bin_end": 0.31246999999999997,
            "count": 2
           },
           {
            "bin_start": 0.31246999999999997,
            "bin_end": 0.34437999999999996,
            "count": 0
           },
           {
            "bin_start": 0.34437999999999996,
            "bin_end": 0.37628999999999996,
            "count": 1
           },
           {
            "bin_start": 0.37628999999999996,
            "bin_end": 0.4082,
            "count": 1
           }
          ]
         }
        },
        {
         "name": "functional_groups",
         "dtype": "object",
         "stats": {
          "unique_count": 0,
          "nan_count": 14,
          "categories": [
           {
            "name": "Missing",
            "count": 14
           }
          ]
         }
        },
        {
         "name": "metal_linker",
         "dtype": "int64",
         "stats": {
          "unique_count": 4,
          "nan_count": 0,
          "min": "2",
          "max": "9",
          "histogram": [
           {
            "bin_start": 2,
            "bin_end": 2.7,
            "count": 1
           },
           {
            "bin_start": 2.7,
            "bin_end": 3.4,
            "count": 3
           },
           {
            "bin_start": 3.4,
            "bin_end": 4.1,
            "count": 2
           },
           {
            "bin_start": 4.1,
            "bin_end": 4.8,
            "count": 0
           },
           {
            "bin_start": 4.8,
            "bin_end": 5.5,
            "count": 0
           },
           {
            "bin_start": 5.5,
            "bin_end": 6.199999999999999,
            "count": 0
           },
           {
            "bin_start": 6.199999999999999,
            "bin_end": 6.8999999999999995,
            "count": 0
           },
           {
            "bin_start": 6.8999999999999995,
            "bin_end": 7.6,
            "count": 0
           },
           {
            "bin_start": 7.6,
            "bin_end": 8.3,
            "count": 0
           },
           {
            "bin_start": 8.3,
            "bin_end": 9,
            "count": 8
           }
          ]
         }
        },
        {
         "name": "organic_linker1",
         "dtype": "int64",
         "stats": {
          "unique_count": 9,
          "nan_count": 0,
          "min": "1",
          "max": "41",
          "histogram": [
           {
            "bin_start": 1,
            "bin_end": 5,
            "count": 4
           },
           {
            "bin_start": 5,
            "bin_end": 9,
            "count": 0
           },
           {
            "bin_start": 9,
            "bin_end": 13,
            "count": 3
           },
           {
            "bin_start": 13,
            "bin_end": 17,
            "count": 3
           },
           {
            "bin_start": 17,
            "bin_end": 21,
            "count": 1
           },
           {
            "bin_start": 21,
            "bin_end": 25,
            "count": 2
           },
           {
            "bin_start": 25,
            "bin_end": 29,
            "count": 0
           },
           {
            "bin_start": 29,
            "bin_end": 33,
            "count": 0
           },
           {
            "bin_start": 33,
            "bin_end": 37,
            "count": 0
           },
           {
            "bin_start": 37,
            "bin_end": 41,
            "count": 1
           }
          ]
         }
        },
        {
         "name": "organic_linker2",
         "dtype": "int64",
         "stats": {
          "unique_count": 7,
          "nan_count": 0,
          "min": "14",
          "max": "41",
          "histogram": [
           {
            "bin_start": 14,
            "bin_end": 16.7,
            "count": 3
           },
           {
            "bin_start": 16.7,
            "bin_end": 19.4,
            "count": 5
           },
           {
            "bin_start": 19.4,
            "bin_end": 22.1,
            "count": 1
           },
           {
            "bin_start": 22.1,
            "bin_end": 24.8,
            "count": 1
           },
           {
            "bin_start": 24.8,
            "bin_end": 27.5,
            "count": 0
           },
           {
            "bin_start": 27.5,
            "bin_end": 30.200000000000003,
            "count": 3
           },
           {
            "bin_start": 30.200000000000003,
            "bin_end": 32.900000000000006,
            "count": 0
           },
           {
            "bin_start": 32.900000000000006,
            "bin_end": 35.6,
            "count": 0
           },
           {
            "bin_start": 35.6,
            "bin_end": 38.3,
            "count": 0
           },
           {
            "bin_start": 38.3,
            "bin_end": 41,
            "count": 1
           }
          ]
         }
        },
        {
         "name": "topology",
         "dtype": "object",
         "stats": {
          "unique_count": 4,
          "nan_count": 0,
          "categories": [
           {
            "name": "sra",
            "count": 8
           },
           {
            "name": "pcu",
            "count": 3
           },
           {
            "name": "2 others",
            "count": 3
           }
          ]
         }
        },
        {
         "name": "CO2/N2_selectivity",
         "dtype": "float64",
         "stats": {
          "unique_count": 14,
          "nan_count": 0,
          "min": "28.51285006",
          "max": "294.1651681",
          "histogram": [
           {
            "bin_start": 28.51285006,
            "bin_end": 55.078081864,
            "count": 5
           },
           {
            "bin_start": 55.078081864,
            "bin_end": 81.643313668,
            "count": 4
           },
           {
            "bin_start": 81.643313668,
            "bin_end": 108.208545472,
            "count": 2
           },
           {
            "bin_start": 108.208545472,
            "bin_end": 134.773777276,
            "count": 2
           },
           {
            "bin_start": 134.773777276,
            "bin_end": 161.33900908,
            "count": 0
           },
           {
            "bin_start": 161.33900908,
            "bin_end": 187.904240884,
            "count": 0
           },
           {
            "bin_start": 187.904240884,
            "bin_end": 214.469472688,
            "count": 0
           },
           {
            "bin_start": 214.469472688,
            "bin_end": 241.034704492,
            "count": 0
           },
           {
            "bin_start": 241.034704492,
            "bin_end": 267.599936296,
            "count": 0
           },
           {
            "bin_start": 267.599936296,
            "bin_end": 294.1651681,
            "count": 1
           }
          ]
         }
        },
        {
         "name": "heat_adsorption_CO2_P0.15bar_T298K [kcal/mol]",
         "dtype": "float64",
         "stats": {
          "unique_count": 14,
          "nan_count": 0,
          "min": "6.017911",
          "max": "9.796693",
          "histogram": [
           {
            "bin_start": 6.017911,
            "bin_end": 6.395789199999999,
            "count": 1
           },
           {
            "bin_start": 6.395789199999999,
            "bin_end": 6.7736674,
            "count": 3
           },
           {
            "bin_start": 6.7736674,
            "bin_end": 7.1515455999999995,
            "count": 2
           },
           {
            "bin_start": 7.1515455999999995,
            "bin_end": 7.5294238,
            "count": 1
           },
           {
            "bin_start": 7.5294238,
            "bin_end": 7.907302,
            "count": 3
           },
           {
            "bin_start": 7.907302,
            "bin_end": 8.2851802,
            "count": 1
           },
           {
            "bin_start": 8.2851802,
            "bin_end": 8.663058399999999,
            "count": 1
           },
           {
            "bin_start": 8.663058399999999,
            "bin_end": 9.040936599999998,
            "count": 0
           },
           {
            "bin_start": 9.040936599999998,
            "bin_end": 9.4188148,
            "count": 1
           },
           {
            "bin_start": 9.4188148,
            "bin_end": 9.796693,
            "count": 1
           }
          ]
         }
        },
        {
         "name": "CO2_working_capacity [mL/g]",
         "dtype": "float64",
         "stats": {
          "unique_count": 14,
          "nan_count": 0,
          "min": "404.53955999174735",
          "max": "594.6148052312003",
          "histogram": [
           {
            "bin_start": 404.53955999174735,
            "bin_end": 423.54708451569263,
            "count": 3
           },
           {
            "bin_start": 423.54708451569263,
            "bin_end": 442.55460903963797,
            "count": 1
           },
           {
            "bin_start": 442.55460903963797,
            "bin_end": 461.56213356358325,
            "count": 3
           },
           {
            "bin_start": 461.56213356358325,
            "bin_end": 480.5696580875285,
            "count": 0
           },
           {
            "bin_start": 480.5696580875285,
            "bin_end": 499.57718261147386,
            "count": 0
           },
           {
            "bin_start": 499.57718261147386,
            "bin_end": 518.5847071354192,
            "count": 1
           },
           {
            "bin_start": 518.5847071354192,
            "bin_end": 537.5922316593644,
            "count": 2
           },
           {
            "bin_start": 537.5922316593644,
            "bin_end": 556.5997561833098,
            "count": 1
           },
           {
            "bin_start": 556.5997561833098,
            "bin_end": 575.6072807072551,
            "count": 0
           },
           {
            "bin_start": 575.6072807072551,
            "bin_end": 594.6148052312003,
            "count": 3
           }
          ]
         }
        },
        {
         "name": "_deepnote_index_column",
         "dtype": "int64"
        }
       ],
       "rows_top": [
        {
         "MOFname": "mof_unit_3918",
         "volume [A^3]": 1827.789599,
         "weight [u]": 903.3878,
         "surface_area [m^2/g]": 2739.69,
         "void_fraction": 0.29754,
         "void_volume [cm^3/g]": 0.3624999999999999,
         "functional_groups": "nan",
         "metal_linker": 3,
         "organic_linker1": 10,
         "organic_linker2": 29,
         "topology": "pcu",
         "CO2/N2_selectivity": 28.51285006,
         "heat_adsorption_CO2_P0.15bar_T298K [kcal/mol]": 6.605597,
         "CO2_working_capacity [mL/g]": 444.28272939039414,
         "_deepnote_index_column": 3917
        },
        {
         "MOFname": "mof_unit_6660",
         "volume [A^3]": 1863.278679,
         "weight [u]": 1176.53272,
         "surface_area [m^2/g]": 0,
         "void_fraction": 0.1543799999999999,
         "void_volume [cm^3/g]": 0.1472,
         "functional_groups": "nan",
         "metal_linker": 9,
         "organic_linker1": 4,
         "organic_linker2": 16,
         "topology": "sra",
         "CO2/N2_selectivity": 95.12257719,
         "heat_adsorption_CO2_P0.15bar_T298K [kcal/mol]": 7.559967999999999,
         "CO2_working_capacity [mL/g]": 443.6042647779714,
         "_deepnote_index_column": 6659
        },
        {
         "MOFname": "mof_unit_7095",
         "volume [A^3]": 2551.539437,
         "weight [u]": 1524.9276,
         "surface_area [m^2/g]": 689.49,
         "void_fraction": 0.1302099999999999,
         "void_volume [cm^3/g]": 0.1312,
         "functional_groups": "nan",
         "metal_linker": 9,
         "organic_linker1": 18,
         "organic_linker2": 18,
         "topology": "sra",
         "CO2/N2_selectivity": 55.4232794,
         "heat_adsorption_CO2_P0.15bar_T298K [kcal/mol]": 7.739192999999998,
         "CO2_working_capacity [mL/g]": 594.6148052312003,
         "_deepnote_index_column": 7094
        },
        {
         "MOFname": "mof_unit_9594",
         "volume [A^3]": 2128.61463,
         "weight [u]": 1424.81024,
         "surface_area [m^2/g]": 0,
         "void_fraction": 0.0990199999999999,
         "void_volume [cm^3/g]": 0.0890999999999999,
         "functional_groups": "nan",
         "metal_linker": 9,
         "organic_linker1": 2,
         "organic_linker2": 18,
         "topology": "sra",
         "CO2/N2_selectivity": 294.1651681,
         "heat_adsorption_CO2_P0.15bar_T298K [kcal/mol]": 9.796693,
         "CO2_working_capacity [mL/g]": 502.14156424691913,
         "_deepnote_index_column": 9593
        },
        {
         "MOFname": "mof_unit_14824",
         "volume [A^3]": 2260.320252,
         "weight [u]": 1378.50784,
         "surface_area [m^2/g]": 1311.38,
         "void_fraction": 0.21174,
         "void_volume [cm^3/g]": 0.2091,
         "functional_groups": "nan",
         "metal_linker": 3,
         "organic_linker1": 14,
         "organic_linker2": 14,
         "topology": "pcu",
         "CO2/N2_selectivity": 35.90295126,
         "heat_adsorption_CO2_P0.15bar_T298K [kcal/mol]": 6.958964999999999,
         "CO2_working_capacity [mL/g]": 420.12344643241687,
         "_deepnote_index_column": 14823
        },
        {
         "MOFname": "mof_unit_24499",
         "volume [A^3]": 2222.286822,
         "weight [u]": 1224.57552,
         "surface_area [m^2/g]": 1747.16,
         "void_fraction": 0.21143,
         "void_volume [cm^3/g]": 0.2311,
         "functional_groups": "nan",
         "metal_linker": 9,
         "organic_linker1": 1,
         "organic_linker2": 18,
         "topology": "sra",
         "CO2/N2_selectivity": 92.40364645,
         "heat_adsorption_CO2_P0.15bar_T298K [kcal/mol]": 7.208211999999999,
         "CO2_working_capacity [mL/g]": 583.7496319161031,
         "_deepnote_index_column": 24498
        },
        {
         "MOFname": "mof_unit_24943",
         "volume [A^3]": 2417.4063690000003,
         "weight [u]": 1324.69288,
         "surface_area [m^2/g]": 2037.27,
         "void_fraction": 0.2206199999999999,
         "void_volume [cm^3/g]": 0.2424,
         "functional_groups": "nan",
         "metal_linker": 9,
         "organic_linker1": 16,
         "organic_linker2": 16,
         "topology": "sra",
         "CO2/N2_selectivity": 66.53668085,
         "heat_adsorption_CO2_P0.15bar_T298K [kcal/mol]": 6.588408,
         "CO2_working_capacity [mL/g]": 532.4704181111459,
         "_deepnote_index_column": 24942
        },
        {
         "MOFname": "mof_unit_25501",
         "volume [A^3]": 4147.156231,
         "weight [u]": 3042.34936,
         "surface_area [m^2/g]": 922.77,
         "void_fraction": 0.1603999999999999,
         "void_volume [cm^3/g]": 0.1317,
         "functional_groups": "nan",
         "metal_linker": 4,
         "organic_linker1": 22,
         "organic_linker2": 22,
         "topology": "acs",
         "CO2/N2_selectivity": 52.55651499,
         "heat_adsorption_CO2_P0.15bar_T298K [kcal/mol]": 8.142269,
         "CO2_working_capacity [mL/g]": 424.92189153069006,
         "_deepnote_index_column": 25500
        },
        {
         "MOFname": "mof_unit_31234",
         "volume [A^3]": 4082.97483,
         "weight [u]": 3030.25408,
         "surface_area [m^2/g]": 884.52,
         "void_fraction": 0.15989,
         "void_volume [cm^3/g]": 0.1297,
         "functional_groups": "nan",
         "metal_linker": 4,
         "organic_linker1": 22,
         "organic_linker2": 24,
         "topology": "acs",
         "CO2/N2_selectivity": 56.44063015,
         "heat_adsorption_CO2_P0.15bar_T298K [kcal/mol]": 7.7562419999999985,
         "CO2_working_capacity [mL/g]": 413.728711114648,
         "_deepnote_index_column": 31233
        },
        {
         "MOFname": "mof_unit_32630",
         "volume [A^3]": 2211.455594,
         "weight [u]": 1424.81024,
         "surface_area [m^2/g]": 0,
         "void_fraction": 0.09693,
         "void_volume [cm^3/g]": 0.0906,
         "functional_groups": "nan",
         "metal_linker": 9,
         "organic_linker1": 16,
         "organic_linker2": 18,
         "topology": "sra",
         "CO2/N2_selectivity": 110.4486006,
         "heat_adsorption_CO2_P0.15bar_T298K [kcal/mol]": 8.534895,
         "CO2_working_capacity [mL/g]": 453.3558317000265,
         "_deepnote_index_column": 32629
        },
        {
         "MOFname": "mof_unit_32779",
         "volume [A^3]": 3415.6113240000004,
         "weight [u]": 1752.9606399999998,
         "surface_area [m^2/g]": 2160.8,
         "void_fraction": 0.2643099999999999,
         "void_volume [cm^3/g]": 0.3100999999999999,
         "functional_groups": "nan",
         "metal_linker": 9,
         "organic_linker1": 10,
         "organic_linker2": 29,
         "topology": "sra",
         "CO2/N2_selectivity": 58.55385799,
         "heat_adsorption_CO2_P0.15bar_T298K [kcal/mol]": 6.661936,
         "CO2_working_capacity [mL/g]": 577.844018410161,
         "_deepnote_index_column": 32778
        },
        {
         "MOFname": "mof_unit_34699",
         "volume [A^3]": 3840.683417,
         "weight [u]": 2031.5952,
         "surface_area [m^2/g]": 2301.47,
         "void_fraction": 0.35854,
         "void_volume [cm^3/g]": 0.4082,
         "functional_groups": "nan",
         "metal_linker": 3,
         "organic_linker1": 41,
         "organic_linker2": 41,
         "topology": "fof",
         "CO2/N2_selectivity": 39.06944171,
         "heat_adsorption_CO2_P0.15bar_T298K [kcal/mol]": 6.017911,
         "CO2_working_capacity [mL/g]": 404.53955999174735,
         "_deepnote_index_column": 34698
        },
        {
         "MOFname": "mof_unit_53667",
         "volume [A^3]": 1737.683999,
         "weight [u]": 899.7197999999999,
         "surface_area [m^2/g]": 2376.05,
         "void_fraction": 0.2680799999999999,
         "void_volume [cm^3/g]": 0.3118,
         "functional_groups": "nan",
         "metal_linker": 2,
         "organic_linker1": 10,
         "organic_linker2": 29,
         "topology": "pcu",
         "CO2/N2_selectivity": 46.31816312,
         "heat_adsorption_CO2_P0.15bar_T298K [kcal/mol]": 6.873883,
         "CO2_working_capacity [mL/g]": 551.983126395042,
         "_deepnote_index_column": 53666
        },
        {
         "MOFname": "mof_unit_58529",
         "volume [A^3]": 2184.361463,
         "weight [u]": 1276.65008,
         "surface_area [m^2/g]": 0,
         "void_fraction": 0.1705,
         "void_volume [cm^3/g]": 0.1757,
         "functional_groups": "nan",
         "metal_linker": 9,
         "organic_linker1": 4,
         "organic_linker2": 18,
         "topology": "sra",
         "CO2/N2_selectivity": 110.7699215,
         "heat_adsorption_CO2_P0.15bar_T298K [kcal/mol]": 9.091152,
         "CO2_working_capacity [mL/g]": 532.7715177347613,
         "_deepnote_index_column": 58528
        }
       ],
       "rows_bottom": null
      },
      "text/plain": "              MOFname  volume [A^3]  weight [u]  surface_area [m^2/g]  \\\n3917    mof_unit_3918   1827.789599   903.38780               2739.69   \n6659    mof_unit_6660   1863.278679  1176.53272                  0.00   \n7094    mof_unit_7095   2551.539437  1524.92760                689.49   \n9593    mof_unit_9594   2128.614630  1424.81024                  0.00   \n14823  mof_unit_14824   2260.320252  1378.50784               1311.38   \n24498  mof_unit_24499   2222.286822  1224.57552               1747.16   \n24942  mof_unit_24943   2417.406369  1324.69288               2037.27   \n25500  mof_unit_25501   4147.156231  3042.34936                922.77   \n31233  mof_unit_31234   4082.974830  3030.25408                884.52   \n32629  mof_unit_32630   2211.455594  1424.81024                  0.00   \n32778  mof_unit_32779   3415.611324  1752.96064               2160.80   \n34698  mof_unit_34699   3840.683417  2031.59520               2301.47   \n53666  mof_unit_53667   1737.683999   899.71980               2376.05   \n58528  mof_unit_58529   2184.361463  1276.65008                  0.00   \n\n       void_fraction  void_volume [cm^3/g] functional_groups  metal_linker  \\\n3917         0.29754                0.3625               NaN             3   \n6659         0.15438                0.1472               NaN             9   \n7094         0.13021                0.1312               NaN             9   \n9593         0.09902                0.0891               NaN             9   \n14823        0.21174                0.2091               NaN             3   \n24498        0.21143                0.2311               NaN             9   \n24942        0.22062                0.2424               NaN             9   \n25500        0.16040                0.1317               NaN             4   \n31233        0.15989                0.1297               NaN             4   \n32629        0.09693                0.0906               NaN             9   \n32778        0.26431                0.3101               NaN             9   \n34698        0.35854                0.4082               NaN             3   \n53666        0.26808                0.3118               NaN             2   \n58528        0.17050                0.1757               NaN             9   \n\n       organic_linker1  organic_linker2 topology  CO2/N2_selectivity  \\\n3917                10               29      pcu           28.512850   \n6659                 4               16      sra           95.122577   \n7094                18               18      sra           55.423279   \n9593                 2               18      sra          294.165168   \n14823               14               14      pcu           35.902951   \n24498                1               18      sra           92.403646   \n24942               16               16      sra           66.536681   \n25500               22               22      acs           52.556515   \n31233               22               24      acs           56.440630   \n32629               16               18      sra          110.448601   \n32778               10               29      sra           58.553858   \n34698               41               41      fof           39.069442   \n53666               10               29      pcu           46.318163   \n58528                4               18      sra          110.769921   \n\n       heat_adsorption_CO2_P0.15bar_T298K [kcal/mol]  \\\n3917                                        6.605597   \n6659                                        7.559968   \n7094                                        7.739193   \n9593                                        9.796693   \n14823                                       6.958965   \n24498                                       7.208212   \n24942                                       6.588408   \n25500                                       8.142269   \n31233                                       7.756242   \n32629                                       8.534895   \n32778                                       6.661936   \n34698                                       6.017911   \n53666                                       6.873883   \n58528                                       9.091152   \n\n       CO2_working_capacity [mL/g]  \n3917                    444.282729  \n6659                    443.604265  \n7094                    594.614805  \n9593                    502.141564  \n14823                   420.123446  \n24498                   583.749632  \n24942                   532.470418  \n25500                   424.921892  \n31233                   413.728711  \n32629                   453.355832  \n32778                   577.844018  \n34698                   404.539560  \n53666                   551.983126  \n58528                   532.771518  ",
      "text/html": "<div>\n<style scoped>\n    .dataframe tbody tr th:only-of-type {\n        vertical-align: middle;\n    }\n\n    .dataframe tbody tr th {\n        vertical-align: top;\n    }\n\n    .dataframe thead th {\n        text-align: right;\n    }\n</style>\n<table border=\"1\" class=\"dataframe\">\n  <thead>\n    <tr style=\"text-align: right;\">\n      <th></th>\n      <th>MOFname</th>\n      <th>volume [A^3]</th>\n      <th>weight [u]</th>\n      <th>surface_area [m^2/g]</th>\n      <th>void_fraction</th>\n      <th>void_volume [cm^3/g]</th>\n      <th>functional_groups</th>\n      <th>metal_linker</th>\n      <th>organic_linker1</th>\n      <th>organic_linker2</th>\n      <th>topology</th>\n      <th>CO2/N2_selectivity</th>\n      <th>heat_adsorption_CO2_P0.15bar_T298K [kcal/mol]</th>\n      <th>CO2_working_capacity [mL/g]</th>\n    </tr>\n  </thead>\n  <tbody>\n    <tr>\n      <th>3917</th>\n      <td>mof_unit_3918</td>\n      <td>1827.789599</td>\n      <td>903.38780</td>\n      <td>2739.69</td>\n      <td>0.29754</td>\n      <td>0.3625</td>\n      <td>NaN</td>\n      <td>3</td>\n      <td>10</td>\n      <td>29</td>\n      <td>pcu</td>\n      <td>28.512850</td>\n      <td>6.605597</td>\n      <td>444.282729</td>\n    </tr>\n    <tr>\n      <th>6659</th>\n      <td>mof_unit_6660</td>\n      <td>1863.278679</td>\n      <td>1176.53272</td>\n      <td>0.00</td>\n      <td>0.15438</td>\n      <td>0.1472</td>\n      <td>NaN</td>\n      <td>9</td>\n      <td>4</td>\n      <td>16</td>\n      <td>sra</td>\n      <td>95.122577</td>\n      <td>7.559968</td>\n      <td>443.604265</td>\n    </tr>\n    <tr>\n      <th>7094</th>\n      <td>mof_unit_7095</td>\n      <td>2551.539437</td>\n      <td>1524.92760</td>\n      <td>689.49</td>\n      <td>0.13021</td>\n      <td>0.1312</td>\n      <td>NaN</td>\n      <td>9</td>\n      <td>18</td>\n      <td>18</td>\n      <td>sra</td>\n      <td>55.423279</td>\n      <td>7.739193</td>\n      <td>594.614805</td>\n    </tr>\n    <tr>\n      <th>9593</th>\n      <td>mof_unit_9594</td>\n      <td>2128.614630</td>\n      <td>1424.81024</td>\n      <td>0.00</td>\n      <td>0.09902</td>\n      <td>0.0891</td>\n      <td>NaN</td>\n      <td>9</td>\n      <td>2</td>\n      <td>18</td>\n      <td>sra</td>\n      <td>294.165168</td>\n      <td>9.796693</td>\n      <td>502.141564</td>\n    </tr>\n    <tr>\n      <th>14823</th>\n      <td>mof_unit_14824</td>\n      <td>2260.320252</td>\n      <td>1378.50784</td>\n      <td>1311.38</td>\n      <td>0.21174</td>\n      <td>0.2091</td>\n      <td>NaN</td>\n      <td>3</td>\n      <td>14</td>\n      <td>14</td>\n      <td>pcu</td>\n      <td>35.902951</td>\n      <td>6.958965</td>\n      <td>420.123446</td>\n    </tr>\n    <tr>\n      <th>24498</th>\n      <td>mof_unit_24499</td>\n      <td>2222.286822</td>\n      <td>1224.57552</td>\n      <td>1747.16</td>\n      <td>0.21143</td>\n      <td>0.2311</td>\n      <td>NaN</td>\n      <td>9</td>\n      <td>1</td>\n      <td>18</td>\n      <td>sra</td>\n      <td>92.403646</td>\n      <td>7.208212</td>\n      <td>583.749632</td>\n    </tr>\n    <tr>\n      <th>24942</th>\n      <td>mof_unit_24943</td>\n      <td>2417.406369</td>\n      <td>1324.69288</td>\n      <td>2037.27</td>\n      <td>0.22062</td>\n      <td>0.2424</td>\n      <td>NaN</td>\n      <td>9</td>\n      <td>16</td>\n      <td>16</td>\n      <td>sra</td>\n      <td>66.536681</td>\n      <td>6.588408</td>\n      <td>532.470418</td>\n    </tr>\n    <tr>\n      <th>25500</th>\n      <td>mof_unit_25501</td>\n      <td>4147.156231</td>\n      <td>3042.34936</td>\n      <td>922.77</td>\n      <td>0.16040</td>\n      <td>0.1317</td>\n      <td>NaN</td>\n      <td>4</td>\n      <td>22</td>\n      <td>22</td>\n      <td>acs</td>\n      <td>52.556515</td>\n      <td>8.142269</td>\n      <td>424.921892</td>\n    </tr>\n    <tr>\n      <th>31233</th>\n      <td>mof_unit_31234</td>\n      <td>4082.974830</td>\n      <td>3030.25408</td>\n      <td>884.52</td>\n      <td>0.15989</td>\n      <td>0.1297</td>\n      <td>NaN</td>\n      <td>4</td>\n      <td>22</td>\n      <td>24</td>\n      <td>acs</td>\n      <td>56.440630</td>\n      <td>7.756242</td>\n      <td>413.728711</td>\n    </tr>\n    <tr>\n      <th>32629</th>\n      <td>mof_unit_32630</td>\n      <td>2211.455594</td>\n      <td>1424.81024</td>\n      <td>0.00</td>\n      <td>0.09693</td>\n      <td>0.0906</td>\n      <td>NaN</td>\n      <td>9</td>\n      <td>16</td>\n      <td>18</td>\n      <td>sra</td>\n      <td>110.448601</td>\n      <td>8.534895</td>\n      <td>453.355832</td>\n    </tr>\n    <tr>\n      <th>32778</th>\n      <td>mof_unit_32779</td>\n      <td>3415.611324</td>\n      <td>1752.96064</td>\n      <td>2160.80</td>\n      <td>0.26431</td>\n      <td>0.3101</td>\n      <td>NaN</td>\n      <td>9</td>\n      <td>10</td>\n      <td>29</td>\n      <td>sra</td>\n      <td>58.553858</td>\n      <td>6.661936</td>\n      <td>577.844018</td>\n    </tr>\n    <tr>\n      <th>34698</th>\n      <td>mof_unit_34699</td>\n      <td>3840.683417</td>\n      <td>2031.59520</td>\n      <td>2301.47</td>\n      <td>0.35854</td>\n      <td>0.4082</td>\n      <td>NaN</td>\n      <td>3</td>\n      <td>41</td>\n      <td>41</td>\n      <td>fof</td>\n      <td>39.069442</td>\n      <td>6.017911</td>\n      <td>404.539560</td>\n    </tr>\n    <tr>\n      <th>53666</th>\n      <td>mof_unit_53667</td>\n      <td>1737.683999</td>\n      <td>899.71980</td>\n      <td>2376.05</td>\n      <td>0.26808</td>\n      <td>0.3118</td>\n      <td>NaN</td>\n      <td>2</td>\n      <td>10</td>\n      <td>29</td>\n      <td>pcu</td>\n      <td>46.318163</td>\n      <td>6.873883</td>\n      <td>551.983126</td>\n    </tr>\n    <tr>\n      <th>58528</th>\n      <td>mof_unit_58529</td>\n      <td>2184.361463</td>\n      <td>1276.65008</td>\n      <td>0.00</td>\n      <td>0.17050</td>\n      <td>0.1757</td>\n      <td>NaN</td>\n      <td>9</td>\n      <td>4</td>\n      <td>18</td>\n      <td>sra</td>\n      <td>110.769921</td>\n      <td>9.091152</td>\n      <td>532.771518</td>\n    </tr>\n  </tbody>\n</table>\n</div>"
     },
     "metadata": {}
    }
   ],
   "execution_count": null
  },
  {
   "cell_type": "code",
   "metadata": {
    "tags": [],
    "cell_id": "00011-aa956340-6a52-49c8-bb3f-39b22b210d36",
    "deepnote_to_be_reexecuted": false,
    "source_hash": "f18343c8",
    "execution_start": 1633186256867,
    "execution_millis": 867,
    "deepnote_cell_type": "code"
   },
   "source": "_file = pd.read_csv('/work/tmlcc2021/data/train_rm.csv')\n_file = file.iloc[:, 1:]\n_file.to_csv('/work/tmlcc2021/data/train_rm.csv', index=False)",
   "outputs": [],
   "execution_count": null
  },
  {
   "cell_type": "code",
   "metadata": {
    "tags": [],
    "cell_id": "00012-b60acb98-e488-443e-805a-65a1fa38d5ec",
    "deepnote_to_be_reexecuted": false,
    "source_hash": "3e1263f9",
    "execution_start": 1633186257735,
    "execution_millis": 2,
    "deepnote_cell_type": "code"
   },
   "source": "# functional_group = file['functional_groups'].unique()\n# functional_group\n# metal_linker = file['metal_linker'].unique()\n# metal_linker\n# vv_mean = np.mean(file['void_volume [cm^3/g]'])\n# vv_mean",
   "outputs": [],
   "execution_count": null
  },
  {
   "cell_type": "markdown",
   "source": "<a style='text-decoration:none;line-height:16px;display:flex;color:#5B5B62;padding:10px;justify-content:end;' href='https://deepnote.com?utm_source=created-in-deepnote-cell&projectId=80c4b0c0-263f-4469-9860-e4bc52f80dd5' target=\"_blank\">\n<img alt='Created in deepnote.com' style='display:inline;max-height:16px;margin:0px;margin-right:7.5px;' src='data:image/svg+xml;base64,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' > </img>\nCreated in <span style='font-weight:600;margin-left:4px;'>Deepnote</span></a>",
   "metadata": {
    "tags": [],
    "created_in_deepnote_cell": true,
    "deepnote_cell_type": "markdown"
   }
  }
 ],
 "nbformat": 4,
 "nbformat_minor": 2,
 "metadata": {
  "orig_nbformat": 2,
  "deepnote": {
   "is_reactive": false
  },
  "deepnote_notebook_id": "3ddcf92a-2718-4385-965a-aafd3aa12058",
  "deepnote_execution_queue": []
 }
}