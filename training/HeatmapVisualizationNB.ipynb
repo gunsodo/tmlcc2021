{
 "cells": [
  {
   "cell_type": "code",
   "metadata": {
    "tags": [],
    "cell_id": "00000-f8801d86-7b25-46cd-9936-55f85d81a574",
    "deepnote_to_be_reexecuted": false,
    "source_hash": "32205f14",
    "execution_start": 1634326484129,
    "execution_millis": 410,
    "deepnote_cell_type": "code"
   },
   "source": "import numpy as np\nimport pandas as pd\nimport altair as alt\n\nrepresentation = ['preprocessed','preprocessed2','binary','word_embedding','PCA_linearAP-RDF','PCA_constAP-RDF','PCA_coordinates','PCA_BOA']\n\nmodel = 'xgb'\n\nLMAE_map = pd.read_csv('/Export/LMAE_'+model+'.csv')\nLMAE_map",
   "execution_count": null,
   "outputs": [
    {
     "output_type": "execute_result",
     "execution_count": 1,
     "data": {
      "application/vnd.deepnote.dataframe.v2+json": {
       "row_count": 8,
       "column_count": 9,
       "columns": [
        {
         "name": "representation",
         "dtype": "object",
         "stats": {
          "unique_count": 8,
          "nan_count": 0,
          "categories": [
           {
            "name": "preprocessed",
            "count": 1
           },
           {
            "name": "preprocessed2",
            "count": 1
           },
           {
            "name": "6 others",
            "count": 6
           }
          ]
         }
        },
        {
         "name": "preprocessed",
         "dtype": "float64",
         "stats": {
          "unique_count": 2,
          "nan_count": 0,
          "min": "0.0",
          "max": "1.259503993445832",
          "histogram": [
           {
            "bin_start": 0,
            "bin_end": 0.1259503993445832,
            "count": 7
           },
           {
            "bin_start": 0.1259503993445832,
            "bin_end": 0.2519007986891664,
            "count": 0
           },
           {
            "bin_start": 0.2519007986891664,
            "bin_end": 0.37785119803374967,
            "count": 0
           },
           {
            "bin_start": 0.37785119803374967,
            "bin_end": 0.5038015973783329,
            "count": 0
           },
           {
            "bin_start": 0.5038015973783329,
            "bin_end": 0.629751996722916,
            "count": 0
           },
           {
            "bin_start": 0.629751996722916,
            "bin_end": 0.7557023960674993,
            "count": 0
           },
           {
            "bin_start": 0.7557023960674993,
            "bin_end": 0.8816527954120825,
            "count": 0
           },
           {
            "bin_start": 0.8816527954120825,
            "bin_end": 1.0076031947566657,
            "count": 0
           },
           {
            "bin_start": 1.0076031947566657,
            "bin_end": 1.133553594101249,
            "count": 0
           },
           {
            "bin_start": 1.133553594101249,
            "bin_end": 1.259503993445832,
            "count": 1
           }
          ]
         }
        },
        {
         "name": "preprocessed2",
         "dtype": "float64",
         "stats": {
          "unique_count": 3,
          "nan_count": 0,
          "min": "0.0",
          "max": "1.2596354706200177",
          "histogram": [
           {
            "bin_start": 0,
            "bin_end": 0.12596354706200177,
            "count": 6
           },
           {
            "bin_start": 0.12596354706200177,
            "bin_end": 0.25192709412400355,
            "count": 0
           },
           {
            "bin_start": 0.25192709412400355,
            "bin_end": 0.37789064118600535,
            "count": 0
           },
           {
            "bin_start": 0.37789064118600535,
            "bin_end": 0.5038541882480071,
            "count": 0
           },
           {
            "bin_start": 0.5038541882480071,
            "bin_end": 0.6298177353100088,
            "count": 0
           },
           {
            "bin_start": 0.6298177353100088,
            "bin_end": 0.7557812823720107,
            "count": 0
           },
           {
            "bin_start": 0.7557812823720107,
            "bin_end": 0.8817448294340124,
            "count": 0
           },
           {
            "bin_start": 0.8817448294340124,
            "bin_end": 1.0077083764960142,
            "count": 0
           },
           {
            "bin_start": 1.0077083764960142,
            "bin_end": 1.133671923558016,
            "count": 0
           },
           {
            "bin_start": 1.133671923558016,
            "bin_end": 1.2596354706200177,
            "count": 2
           }
          ]
         }
        },
        {
         "name": "binary",
         "dtype": "float64",
         "stats": {
          "unique_count": 4,
          "nan_count": 0,
          "min": "0.0",
          "max": "1.734774883178402",
          "histogram": [
           {
            "bin_start": 0,
            "bin_end": 0.1734774883178402,
            "count": 5
           },
           {
            "bin_start": 0.1734774883178402,
            "bin_end": 0.3469549766356804,
            "count": 0
           },
           {
            "bin_start": 0.3469549766356804,
            "bin_end": 0.5204324649535206,
            "count": 0
           },
           {
            "bin_start": 0.5204324649535206,
            "bin_end": 0.6939099532713608,
            "count": 0
           },
           {
            "bin_start": 0.6939099532713608,
            "bin_end": 0.8673874415892011,
            "count": 0
           },
           {
            "bin_start": 0.8673874415892011,
            "bin_end": 1.0408649299070412,
            "count": 0
           },
           {
            "bin_start": 1.0408649299070412,
            "bin_end": 1.2143424182248814,
            "count": 0
           },
           {
            "bin_start": 1.2143424182248814,
            "bin_end": 1.3878199065427217,
            "count": 2
           },
           {
            "bin_start": 1.3878199065427217,
            "bin_end": 1.561297394860562,
            "count": 0
           },
           {
            "bin_start": 1.561297394860562,
            "bin_end": 1.734774883178402,
            "count": 1
           }
          ]
         }
        },
        {
         "name": "word_embedding",
         "dtype": "float64",
         "stats": {
          "unique_count": 5,
          "nan_count": 0,
          "min": "0.0",
          "max": "1.7806475061454754",
          "histogram": [
           {
            "bin_start": 0,
            "bin_end": 0.17806475061454755,
            "count": 4
           },
           {
            "bin_start": 0.17806475061454755,
            "bin_end": 0.3561295012290951,
            "count": 0
           },
           {
            "bin_start": 0.3561295012290951,
            "bin_end": 0.5341942518436427,
            "count": 0
           },
           {
            "bin_start": 0.5341942518436427,
            "bin_end": 0.7122590024581902,
            "count": 0
           },
           {
            "bin_start": 0.7122590024581902,
            "bin_end": 0.8903237530727377,
            "count": 0
           },
           {
            "bin_start": 0.8903237530727377,
            "bin_end": 1.0683885036872853,
            "count": 0
           },
           {
            "bin_start": 1.0683885036872853,
            "bin_end": 1.2464532543018327,
            "count": 0
           },
           {
            "bin_start": 1.2464532543018327,
            "bin_end": 1.4245180049163804,
            "count": 2
           },
           {
            "bin_start": 1.4245180049163804,
            "bin_end": 1.602582755530928,
            "count": 0
           },
           {
            "bin_start": 1.602582755530928,
            "bin_end": 1.7806475061454754,
            "count": 2
           }
          ]
         }
        },
        {
         "name": "PCA_linearAP-RDF",
         "dtype": "float64",
         "stats": {
          "unique_count": 6,
          "nan_count": 0,
          "min": "0.0",
          "max": "1.563762039634682",
          "histogram": [
           {
            "bin_start": 0,
            "bin_end": 0.1563762039634682,
            "count": 3
           },
           {
            "bin_start": 0.1563762039634682,
            "bin_end": 0.3127524079269364,
            "count": 0
           },
           {
            "bin_start": 0.3127524079269364,
            "bin_end": 0.46912861189040467,
            "count": 0
           },
           {
            "bin_start": 0.46912861189040467,
            "bin_end": 0.6255048158538729,
            "count": 0
           },
           {
            "bin_start": 0.6255048158538729,
            "bin_end": 0.781881019817341,
            "count": 0
           },
           {
            "bin_start": 0.781881019817341,
            "bin_end": 0.9382572237808093,
            "count": 0
           },
           {
            "bin_start": 0.9382572237808093,
            "bin_end": 1.0946334277442775,
            "count": 0
           },
           {
            "bin_start": 1.0946334277442775,
            "bin_end": 1.2510096317077457,
            "count": 0
           },
           {
            "bin_start": 1.2510096317077457,
            "bin_end": 1.407385835671214,
            "count": 2
           },
           {
            "bin_start": 1.407385835671214,
            "bin_end": 1.563762039634682,
            "count": 3
           }
          ]
         }
        },
        {
         "name": "PCA_constAP-RDF",
         "dtype": "float64",
         "stats": {
          "unique_count": 7,
          "nan_count": 0,
          "min": "0.0",
          "max": "1.5605120285928928",
          "histogram": [
           {
            "bin_start": 0,
            "bin_end": 0.15605120285928928,
            "count": 2
           },
           {
            "bin_start": 0.15605120285928928,
            "bin_end": 0.31210240571857856,
            "count": 0
           },
           {
            "bin_start": 0.31210240571857856,
            "bin_end": 0.4681536085778678,
            "count": 0
           },
           {
            "bin_start": 0.4681536085778678,
            "bin_end": 0.6242048114371571,
            "count": 0
           },
           {
            "bin_start": 0.6242048114371571,
            "bin_end": 0.7802560142964464,
            "count": 0
           },
           {
            "bin_start": 0.7802560142964464,
            "bin_end": 0.9363072171557356,
            "count": 0
           },
           {
            "bin_start": 0.9363072171557356,
            "bin_end": 1.092358420015025,
            "count": 0
           },
           {
            "bin_start": 1.092358420015025,
            "bin_end": 1.2484096228743142,
            "count": 0
           },
           {
            "bin_start": 1.2484096228743142,
            "bin_end": 1.4044608257336035,
            "count": 2
           },
           {
            "bin_start": 1.4044608257336035,
            "bin_end": 1.5605120285928928,
            "count": 4
           }
          ]
         }
        },
        {
         "name": "PCA_coordinates",
         "dtype": "float64",
         "stats": {
          "unique_count": 8,
          "nan_count": 0,
          "min": "0.0",
          "max": "1.6503037060857095",
          "histogram": [
           {
            "bin_start": 0,
            "bin_end": 0.16503037060857095,
            "count": 1
           },
           {
            "bin_start": 0.16503037060857095,
            "bin_end": 0.3300607412171419,
            "count": 0
           },
           {
            "bin_start": 0.3300607412171419,
            "bin_end": 0.49509111182571286,
            "count": 0
           },
           {
            "bin_start": 0.49509111182571286,
            "bin_end": 0.6601214824342838,
            "count": 0
           },
           {
            "bin_start": 0.6601214824342838,
            "bin_end": 0.8251518530428548,
            "count": 0
           },
           {
            "bin_start": 0.8251518530428548,
            "bin_end": 0.9901822236514257,
            "count": 0
           },
           {
            "bin_start": 0.9901822236514257,
            "bin_end": 1.1552125942599967,
            "count": 0
           },
           {
            "bin_start": 1.1552125942599967,
            "bin_end": 1.3202429648685676,
            "count": 2
           },
           {
            "bin_start": 1.3202429648685676,
            "bin_end": 1.4852733354771386,
            "count": 0
           },
           {
            "bin_start": 1.4852733354771386,
            "bin_end": 1.6503037060857095,
            "count": 5
           }
          ]
         }
        },
        {
         "name": "PCA_BOA",
         "dtype": "float64",
         "stats": {
          "unique_count": 8,
          "nan_count": 0,
          "min": "1.2741306366373504",
          "max": "1.5880414098857",
          "histogram": [
           {
            "bin_start": 1.2741306366373504,
            "bin_end": 1.3055217139621853,
            "count": 2
           },
           {
            "bin_start": 1.3055217139621853,
            "bin_end": 1.3369127912870202,
            "count": 0
           },
           {
            "bin_start": 1.3369127912870202,
            "bin_end": 1.3683038686118554,
            "count": 0
           },
           {
            "bin_start": 1.3683038686118554,
            "bin_end": 1.3996949459366903,
            "count": 0
           },
           {
            "bin_start": 1.3996949459366903,
            "bin_end": 1.4310860232615252,
            "count": 0
           },
           {
            "bin_start": 1.4310860232615252,
            "bin_end": 1.4624771005863602,
            "count": 0
           },
           {
            "bin_start": 1.4624771005863602,
            "bin_end": 1.493868177911195,
            "count": 0
           },
           {
            "bin_start": 1.493868177911195,
            "bin_end": 1.5252592552360302,
            "count": 0
           },
           {
            "bin_start": 1.5252592552360302,
            "bin_end": 1.5566503325608652,
            "count": 3
           },
           {
            "bin_start": 1.5566503325608652,
            "bin_end": 1.5880414098857,
            "count": 3
           }
          ]
         }
        },
        {
         "name": "_deepnote_index_column",
         "dtype": "int64"
        }
       ],
       "rows_top": [
        {
         "representation": "preprocessed",
         "preprocessed": 1.259503993445832,
         "preprocessed2": 1.259618862880334,
         "binary": 1.2511853034260552,
         "word_embedding": 1.253147794889317,
         "PCA_linearAP-RDF": 1.2556328845406868,
         "PCA_constAP-RDF": 1.255404564714821,
         "PCA_coordinates": 1.28759278574078,
         "PCA_BOA": 1.2741306366373504,
         "_deepnote_index_column": 0
        },
        {
         "representation": "preprocessed2",
         "preprocessed": 0,
         "preprocessed2": 1.2596354706200177,
         "binary": 1.2554068543493482,
         "word_embedding": 1.253562284720151,
         "PCA_linearAP-RDF": 1.2582905940812772,
         "PCA_constAP-RDF": 1.258916554053566,
         "PCA_coordinates": 1.2856619781853134,
         "PCA_BOA": 1.2757689729259996,
         "_deepnote_index_column": 1
        },
        {
         "representation": "binary",
         "preprocessed": 0,
         "preprocessed2": 0,
         "binary": 1.734774883178402,
         "word_embedding": 1.735736529920543,
         "PCA_linearAP-RDF": 1.5244454162868928,
         "PCA_constAP-RDF": 1.5214292096062036,
         "PCA_coordinates": 1.618989018389919,
         "PCA_BOA": 1.5567334874554108,
         "_deepnote_index_column": 2
        },
        {
         "representation": "word_embedding",
         "preprocessed": 0,
         "preprocessed2": 0,
         "binary": 0,
         "word_embedding": 1.7806475061454754,
         "PCA_linearAP-RDF": 1.5553913856370971,
         "PCA_constAP-RDF": 1.551502471029228,
         "PCA_coordinates": 1.6443593523170632,
         "PCA_BOA": 1.5762891145677045,
         "_deepnote_index_column": 3
        },
        {
         "representation": "PCA_linearAP-RDF",
         "preprocessed": 0,
         "preprocessed2": 0,
         "binary": 0,
         "word_embedding": 0,
         "PCA_linearAP-RDF": 1.563762039634682,
         "PCA_constAP-RDF": 1.5546156211048077,
         "PCA_coordinates": 1.5616682815735743,
         "PCA_BOA": 1.5378818092211508,
         "_deepnote_index_column": 4
        },
        {
         "representation": "PCA_constAP-RDF",
         "preprocessed": 0,
         "preprocessed2": 0,
         "binary": 0,
         "word_embedding": 0,
         "PCA_linearAP-RDF": 0,
         "PCA_constAP-RDF": 1.5605120285928928,
         "PCA_coordinates": 1.5623308631688446,
         "PCA_BOA": 1.5344072167473737,
         "_deepnote_index_column": 5
        },
        {
         "representation": "PCA_coordinates",
         "preprocessed": 0,
         "preprocessed2": 0,
         "binary": 0,
         "word_embedding": 0,
         "PCA_linearAP-RDF": 0,
         "PCA_constAP-RDF": 0,
         "PCA_coordinates": 1.6503037060857095,
         "PCA_BOA": 1.554314018105303,
         "_deepnote_index_column": 6
        },
        {
         "representation": "PCA_BOA",
         "preprocessed": 0,
         "preprocessed2": 0,
         "binary": 0,
         "word_embedding": 0,
         "PCA_linearAP-RDF": 0,
         "PCA_constAP-RDF": 0,
         "PCA_coordinates": 0,
         "PCA_BOA": 1.5880414098857,
         "_deepnote_index_column": 7
        }
       ],
       "rows_bottom": null
      },
      "text/plain": "     representation  preprocessed  preprocessed2    binary  word_embedding  \\\n0      preprocessed      1.259504       1.259619  1.251185        1.253148   \n1     preprocessed2      0.000000       1.259635  1.255407        1.253562   \n2            binary      0.000000       0.000000  1.734775        1.735737   \n3    word_embedding      0.000000       0.000000  0.000000        1.780648   \n4  PCA_linearAP-RDF      0.000000       0.000000  0.000000        0.000000   \n5   PCA_constAP-RDF      0.000000       0.000000  0.000000        0.000000   \n6   PCA_coordinates      0.000000       0.000000  0.000000        0.000000   \n7           PCA_BOA      0.000000       0.000000  0.000000        0.000000   \n\n   PCA_linearAP-RDF  PCA_constAP-RDF  PCA_coordinates   PCA_BOA  \n0          1.255633         1.255405         1.287593  1.274131  \n1          1.258291         1.258917         1.285662  1.275769  \n2          1.524445         1.521429         1.618989  1.556733  \n3          1.555391         1.551502         1.644359  1.576289  \n4          1.563762         1.554616         1.561668  1.537882  \n5          0.000000         1.560512         1.562331  1.534407  \n6          0.000000         0.000000         1.650304  1.554314  \n7          0.000000         0.000000         0.000000  1.588041  ",
      "text/html": "<div>\n<style scoped>\n    .dataframe tbody tr th:only-of-type {\n        vertical-align: middle;\n    }\n\n    .dataframe tbody tr th {\n        vertical-align: top;\n    }\n\n    .dataframe thead th {\n        text-align: right;\n    }\n</style>\n<table border=\"1\" class=\"dataframe\">\n  <thead>\n    <tr style=\"text-align: right;\">\n      <th></th>\n      <th>representation</th>\n      <th>preprocessed</th>\n      <th>preprocessed2</th>\n      <th>binary</th>\n      <th>word_embedding</th>\n      <th>PCA_linearAP-RDF</th>\n      <th>PCA_constAP-RDF</th>\n      <th>PCA_coordinates</th>\n      <th>PCA_BOA</th>\n    </tr>\n  </thead>\n  <tbody>\n    <tr>\n      <th>0</th>\n      <td>preprocessed</td>\n      <td>1.259504</td>\n      <td>1.259619</td>\n      <td>1.251185</td>\n      <td>1.253148</td>\n      <td>1.255633</td>\n      <td>1.255405</td>\n      <td>1.287593</td>\n      <td>1.274131</td>\n    </tr>\n    <tr>\n      <th>1</th>\n      <td>preprocessed2</td>\n      <td>0.000000</td>\n      <td>1.259635</td>\n      <td>1.255407</td>\n      <td>1.253562</td>\n      <td>1.258291</td>\n      <td>1.258917</td>\n      <td>1.285662</td>\n      <td>1.275769</td>\n    </tr>\n    <tr>\n      <th>2</th>\n      <td>binary</td>\n      <td>0.000000</td>\n      <td>0.000000</td>\n      <td>1.734775</td>\n      <td>1.735737</td>\n      <td>1.524445</td>\n      <td>1.521429</td>\n      <td>1.618989</td>\n      <td>1.556733</td>\n    </tr>\n    <tr>\n      <th>3</th>\n      <td>word_embedding</td>\n      <td>0.000000</td>\n      <td>0.000000</td>\n      <td>0.000000</td>\n      <td>1.780648</td>\n      <td>1.555391</td>\n      <td>1.551502</td>\n      <td>1.644359</td>\n      <td>1.576289</td>\n    </tr>\n    <tr>\n      <th>4</th>\n      <td>PCA_linearAP-RDF</td>\n      <td>0.000000</td>\n      <td>0.000000</td>\n      <td>0.000000</td>\n      <td>0.000000</td>\n      <td>1.563762</td>\n      <td>1.554616</td>\n      <td>1.561668</td>\n      <td>1.537882</td>\n    </tr>\n    <tr>\n      <th>5</th>\n      <td>PCA_constAP-RDF</td>\n      <td>0.000000</td>\n      <td>0.000000</td>\n      <td>0.000000</td>\n      <td>0.000000</td>\n      <td>0.000000</td>\n      <td>1.560512</td>\n      <td>1.562331</td>\n      <td>1.534407</td>\n    </tr>\n    <tr>\n      <th>6</th>\n      <td>PCA_coordinates</td>\n      <td>0.000000</td>\n      <td>0.000000</td>\n      <td>0.000000</td>\n      <td>0.000000</td>\n      <td>0.000000</td>\n      <td>0.000000</td>\n      <td>1.650304</td>\n      <td>1.554314</td>\n    </tr>\n    <tr>\n      <th>7</th>\n      <td>PCA_BOA</td>\n      <td>0.000000</td>\n      <td>0.000000</td>\n      <td>0.000000</td>\n      <td>0.000000</td>\n      <td>0.000000</td>\n      <td>0.000000</td>\n      <td>0.000000</td>\n      <td>1.588041</td>\n    </tr>\n  </tbody>\n</table>\n</div>"
     },
     "metadata": {}
    }
   ]
  },
  {
   "cell_type": "code",
   "metadata": {
    "tags": [],
    "cell_id": "00001-da18663a-fa31-46ad-9a0b-1cfd42523e53",
    "deepnote_to_be_reexecuted": false,
    "source_hash": "cd780104",
    "execution_start": 1634326484548,
    "execution_millis": 0,
    "deepnote_cell_type": "code"
   },
   "source": "MODELS_GS = {\n    'svr': 'SVR',\n    'rf': 'RandomForestRegressor',\n    'gpr': 'GaussianProcessRegressor',\n    'mlp': 'MLPRegressor',\n    'gbr': 'GradientBoostingRegressor',\n    'ada': 'AdaBoostRegressor',\n    'bag': 'BaggingRegressor',\n    'exr': 'ExtraTreesRegressor',\n    'xgb': 'XGBRegressor',\n    'lgb': 'LGBMRegressor',\n    'cat': 'CatBoostRegressor',\n}",
   "execution_count": null,
   "outputs": []
  },
  {
   "cell_type": "code",
   "metadata": {
    "tags": [],
    "cell_id": "00001-89f9a17f-ee30-49f2-992b-155fa4a5421f",
    "deepnote_to_be_reexecuted": false,
    "source_hash": "aeb6d9de",
    "execution_start": 1634326484556,
    "execution_millis": 28,
    "deepnote_cell_type": "code"
   },
   "source": "LMAE_plot = LMAE_map.melt(id_vars='representation',value_vars=LMAE_map.columns[1:],var_name='representation_2',value_name='LMAE')\nLMAE_plot = LMAE_plot[LMAE_plot.LMAE != 0]\n\nheatmap = alt.Chart(\n    LMAE_plot,\n    #title=alt.Config(title=MODELS_GS[model],titleFontSize=16, titlePadding=10)\n    title=MODELS_GS[model]\n).mark_rect().encode(\n    x=alt.X('representation_2', axis=alt.Axis(title='Representaion 2',titlePadding=15), sort=list(reversed(representation))),\n    y=alt.Y('representation', axis=alt.Axis(title='Representation 1',titlePadding=15), sort=list(reversed(representation))),\n    color=alt.Color('LMAE', scale=alt.Scale(scheme=\"yellowgreenblue\",domain=[1.230, 1.8]), sort='descending'),\n    #column = alt.Column('representation_2', sort=representation),\n    tooltip=[alt.Tooltip('LMAE', title='LMAE')]\n).properties(height=220,width=300,)\n\nheatmap.configure_title(fontSize=16,offset=10)",
   "execution_count": null,
   "outputs": [
    {
     "output_type": "execute_result",
     "execution_count": 3,
     "data": {
      "text/html": "\n<div id=\"altair-viz-6c070d707337499dafd16242d84a9911\"></div>\n<script type=\"text/javascript\">\n  (function(spec, embedOpt){\n    let outputDiv = document.currentScript.previousElementSibling;\n    if (outputDiv.id !== \"altair-viz-6c070d707337499dafd16242d84a9911\") {\n      outputDiv = document.getElementById(\"altair-viz-6c070d707337499dafd16242d84a9911\");\n    }\n    const paths = {\n      \"vega\": \"https://cdn.jsdelivr.net/npm//vega@5?noext\",\n      \"vega-lib\": \"https://cdn.jsdelivr.net/npm//vega-lib?noext\",\n      \"vega-lite\": \"https://cdn.jsdelivr.net/npm//vega-lite@4.8.1?noext\",\n      \"vega-embed\": \"https://cdn.jsdelivr.net/npm//vega-embed@6?noext\",\n    };\n\n    function loadScript(lib) {\n      return new Promise(function(resolve, reject) {\n        var s = document.createElement('script');\n        s.src = paths[lib];\n        s.async = true;\n        s.onload = () => resolve(paths[lib]);\n        s.onerror = () => reject(`Error loading script: ${paths[lib]}`);\n        document.getElementsByTagName(\"head\")[0].appendChild(s);\n      });\n    }\n\n    function showError(err) {\n      outputDiv.innerHTML = `<div class=\"error\" style=\"color:red;\">${err}</div>`;\n      throw err;\n    }\n\n    function displayChart(vegaEmbed) {\n      vegaEmbed(outputDiv, spec, embedOpt)\n        .catch(err => showError(`Javascript Error: ${err.message}<br>This usually means there's a typo in your chart specification. See the javascript console for the full traceback.`));\n    }\n\n    if(typeof define === \"function\" && define.amd) {\n      requirejs.config({paths});\n      require([\"vega-embed\"], displayChart, err => showError(`Error loading script: ${err.message}`));\n    } else if (typeof vegaEmbed === \"function\") {\n      displayChart(vegaEmbed);\n    } else {\n      loadScript(\"vega\")\n        .then(() => loadScript(\"vega-lite\"))\n        .then(() => loadScript(\"vega-embed\"))\n        .catch(showError)\n        .then(() => displayChart(vegaEmbed));\n    }\n  })({\"config\": {\"view\": {\"continuousWidth\": 400, \"continuousHeight\": 300}, \"title\": {\"fontSize\": 16, \"offset\": 10}}, \"data\": {\"name\": \"data-6daf0b8ee30e2aab32eba17acef3f969\"}, \"mark\": \"rect\", \"encoding\": {\"color\": {\"type\": \"quantitative\", \"field\": \"LMAE\", \"scale\": {\"domain\": [1.23, 1.8], \"scheme\": \"yellowgreenblue\"}, \"sort\": \"descending\"}, \"tooltip\": [{\"type\": \"quantitative\", \"field\": \"LMAE\", \"title\": \"LMAE\"}], \"x\": {\"type\": \"nominal\", \"axis\": {\"title\": \"Representaion 2\", \"titlePadding\": 15}, \"field\": \"representation_2\", \"sort\": [\"PCA_BOA\", \"PCA_coordinates\", \"PCA_constAP-RDF\", \"PCA_linearAP-RDF\", \"word_embedding\", \"binary\", \"preprocessed2\", \"preprocessed\"]}, \"y\": {\"type\": \"nominal\", \"axis\": {\"title\": \"Representation 1\", \"titlePadding\": 15}, \"field\": \"representation\", \"sort\": [\"PCA_BOA\", \"PCA_coordinates\", \"PCA_constAP-RDF\", \"PCA_linearAP-RDF\", \"word_embedding\", \"binary\", \"preprocessed2\", \"preprocessed\"]}}, \"height\": 220, \"title\": \"XGBRegressor\", \"width\": 300, \"$schema\": \"https://vega.github.io/schema/vega-lite/v4.8.1.json\", \"datasets\": {\"data-6daf0b8ee30e2aab32eba17acef3f969\": [{\"representation\": \"preprocessed\", \"representation_2\": \"preprocessed\", \"LMAE\": 1.259503993445832}, {\"representation\": \"preprocessed\", \"representation_2\": \"preprocessed2\", \"LMAE\": 1.259618862880334}, {\"representation\": \"preprocessed2\", \"representation_2\": \"preprocessed2\", \"LMAE\": 1.2596354706200177}, {\"representation\": \"preprocessed\", \"representation_2\": \"binary\", \"LMAE\": 1.2511853034260552}, {\"representation\": \"preprocessed2\", \"representation_2\": \"binary\", \"LMAE\": 1.2554068543493482}, {\"representation\": \"binary\", \"representation_2\": \"binary\", \"LMAE\": 1.734774883178402}, {\"representation\": \"preprocessed\", \"representation_2\": \"word_embedding\", \"LMAE\": 1.253147794889317}, {\"representation\": \"preprocessed2\", \"representation_2\": \"word_embedding\", \"LMAE\": 1.253562284720151}, {\"representation\": \"binary\", \"representation_2\": \"word_embedding\", \"LMAE\": 1.735736529920543}, {\"representation\": \"word_embedding\", \"representation_2\": \"word_embedding\", \"LMAE\": 1.7806475061454754}, {\"representation\": \"preprocessed\", \"representation_2\": \"PCA_linearAP-RDF\", \"LMAE\": 1.2556328845406868}, {\"representation\": \"preprocessed2\", \"representation_2\": \"PCA_linearAP-RDF\", \"LMAE\": 1.2582905940812772}, {\"representation\": \"binary\", \"representation_2\": \"PCA_linearAP-RDF\", \"LMAE\": 1.5244454162868928}, {\"representation\": \"word_embedding\", \"representation_2\": \"PCA_linearAP-RDF\", \"LMAE\": 1.5553913856370971}, {\"representation\": \"PCA_linearAP-RDF\", \"representation_2\": \"PCA_linearAP-RDF\", \"LMAE\": 1.563762039634682}, {\"representation\": \"preprocessed\", \"representation_2\": \"PCA_constAP-RDF\", \"LMAE\": 1.255404564714821}, {\"representation\": \"preprocessed2\", \"representation_2\": \"PCA_constAP-RDF\", \"LMAE\": 1.258916554053566}, {\"representation\": \"binary\", \"representation_2\": \"PCA_constAP-RDF\", \"LMAE\": 1.5214292096062036}, {\"representation\": \"word_embedding\", \"representation_2\": \"PCA_constAP-RDF\", \"LMAE\": 1.551502471029228}, {\"representation\": \"PCA_linearAP-RDF\", \"representation_2\": \"PCA_constAP-RDF\", \"LMAE\": 1.5546156211048077}, {\"representation\": \"PCA_constAP-RDF\", \"representation_2\": \"PCA_constAP-RDF\", \"LMAE\": 1.5605120285928928}, {\"representation\": \"preprocessed\", \"representation_2\": \"PCA_coordinates\", \"LMAE\": 1.28759278574078}, {\"representation\": \"preprocessed2\", \"representation_2\": \"PCA_coordinates\", \"LMAE\": 1.2856619781853134}, {\"representation\": \"binary\", \"representation_2\": \"PCA_coordinates\", \"LMAE\": 1.618989018389919}, {\"representation\": \"word_embedding\", \"representation_2\": \"PCA_coordinates\", \"LMAE\": 1.6443593523170632}, {\"representation\": \"PCA_linearAP-RDF\", \"representation_2\": \"PCA_coordinates\", \"LMAE\": 1.5616682815735743}, {\"representation\": \"PCA_constAP-RDF\", \"representation_2\": \"PCA_coordinates\", \"LMAE\": 1.5623308631688446}, {\"representation\": \"PCA_coordinates\", \"representation_2\": \"PCA_coordinates\", \"LMAE\": 1.6503037060857095}, {\"representation\": \"preprocessed\", \"representation_2\": \"PCA_BOA\", \"LMAE\": 1.2741306366373504}, {\"representation\": \"preprocessed2\", \"representation_2\": \"PCA_BOA\", \"LMAE\": 1.2757689729259996}, {\"representation\": \"binary\", \"representation_2\": \"PCA_BOA\", \"LMAE\": 1.5567334874554108}, {\"representation\": \"word_embedding\", \"representation_2\": \"PCA_BOA\", \"LMAE\": 1.5762891145677045}, {\"representation\": \"PCA_linearAP-RDF\", \"representation_2\": \"PCA_BOA\", \"LMAE\": 1.5378818092211508}, {\"representation\": \"PCA_constAP-RDF\", \"representation_2\": \"PCA_BOA\", \"LMAE\": 1.5344072167473737}, {\"representation\": \"PCA_coordinates\", \"representation_2\": \"PCA_BOA\", \"LMAE\": 1.554314018105303}, {\"representation\": \"PCA_BOA\", \"representation_2\": \"PCA_BOA\", \"LMAE\": 1.5880414098857}]}}, {\"mode\": \"vega-lite\"});\n</script>",
      "text/plain": "alt.Chart(...)"
     },
     "metadata": {}
    }
   ]
  },
  {
   "cell_type": "code",
   "metadata": {
    "tags": [],
    "cell_id": "00003-2673b856-ec29-4a19-a1a8-a5adbbb3d360",
    "deepnote_to_be_reexecuted": false,
    "source_hash": "b0a61049",
    "execution_start": 1634326484606,
    "execution_millis": 17,
    "deepnote_cell_type": "code"
   },
   "source": "text = heatmap.mark_text(baseline='middle').encode(\n    text=alt.Text('LMAE', format='.4s'),\n    color=alt.condition(\n        alt.datum.LMAE > 1.63,\n        alt.value('black'),\n        alt.value('white')\n    )\n)\n\nalt.layer(heatmap,text).configure_title(fontSize=16,offset=10)",
   "execution_count": null,
   "outputs": [
    {
     "output_type": "execute_result",
     "execution_count": 4,
     "data": {
      "text/html": "\n<div id=\"altair-viz-a13884bd09af444f8df0ff06777eca01\"></div>\n<script type=\"text/javascript\">\n  (function(spec, embedOpt){\n    let outputDiv = document.currentScript.previousElementSibling;\n    if (outputDiv.id !== \"altair-viz-a13884bd09af444f8df0ff06777eca01\") {\n      outputDiv = document.getElementById(\"altair-viz-a13884bd09af444f8df0ff06777eca01\");\n    }\n    const paths = {\n      \"vega\": \"https://cdn.jsdelivr.net/npm//vega@5?noext\",\n      \"vega-lib\": \"https://cdn.jsdelivr.net/npm//vega-lib?noext\",\n      \"vega-lite\": \"https://cdn.jsdelivr.net/npm//vega-lite@4.8.1?noext\",\n      \"vega-embed\": \"https://cdn.jsdelivr.net/npm//vega-embed@6?noext\",\n    };\n\n    function loadScript(lib) {\n      return new Promise(function(resolve, reject) {\n        var s = document.createElement('script');\n        s.src = paths[lib];\n        s.async = true;\n        s.onload = () => resolve(paths[lib]);\n        s.onerror = () => reject(`Error loading script: ${paths[lib]}`);\n        document.getElementsByTagName(\"head\")[0].appendChild(s);\n      });\n    }\n\n    function showError(err) {\n      outputDiv.innerHTML = `<div class=\"error\" style=\"color:red;\">${err}</div>`;\n      throw err;\n    }\n\n    function displayChart(vegaEmbed) {\n      vegaEmbed(outputDiv, spec, embedOpt)\n        .catch(err => showError(`Javascript Error: ${err.message}<br>This usually means there's a typo in your chart specification. See the javascript console for the full traceback.`));\n    }\n\n    if(typeof define === \"function\" && define.amd) {\n      requirejs.config({paths});\n      require([\"vega-embed\"], displayChart, err => showError(`Error loading script: ${err.message}`));\n    } else if (typeof vegaEmbed === \"function\") {\n      displayChart(vegaEmbed);\n    } else {\n      loadScript(\"vega\")\n        .then(() => loadScript(\"vega-lite\"))\n        .then(() => loadScript(\"vega-embed\"))\n        .catch(showError)\n        .then(() => displayChart(vegaEmbed));\n    }\n  })({\"config\": {\"view\": {\"continuousWidth\": 400, \"continuousHeight\": 300}, \"title\": {\"fontSize\": 16, \"offset\": 10}}, \"layer\": [{\"mark\": \"rect\", \"encoding\": {\"color\": {\"type\": \"quantitative\", \"field\": \"LMAE\", \"scale\": {\"domain\": [1.23, 1.8], \"scheme\": \"yellowgreenblue\"}, \"sort\": \"descending\"}, \"tooltip\": [{\"type\": \"quantitative\", \"field\": \"LMAE\", \"title\": \"LMAE\"}], \"x\": {\"type\": \"nominal\", \"axis\": {\"title\": \"Representaion 2\", \"titlePadding\": 15}, \"field\": \"representation_2\", \"sort\": [\"PCA_BOA\", \"PCA_coordinates\", \"PCA_constAP-RDF\", \"PCA_linearAP-RDF\", \"word_embedding\", \"binary\", \"preprocessed2\", \"preprocessed\"]}, \"y\": {\"type\": \"nominal\", \"axis\": {\"title\": \"Representation 1\", \"titlePadding\": 15}, \"field\": \"representation\", \"sort\": [\"PCA_BOA\", \"PCA_coordinates\", \"PCA_constAP-RDF\", \"PCA_linearAP-RDF\", \"word_embedding\", \"binary\", \"preprocessed2\", \"preprocessed\"]}}, \"height\": 220, \"title\": \"XGBRegressor\", \"width\": 300}, {\"mark\": {\"type\": \"text\", \"baseline\": \"middle\"}, \"encoding\": {\"color\": {\"condition\": {\"value\": \"black\", \"test\": \"(datum.LMAE > 1.63)\"}, \"value\": \"white\"}, \"text\": {\"type\": \"quantitative\", \"field\": \"LMAE\", \"format\": \".4s\"}, \"tooltip\": [{\"type\": \"quantitative\", \"field\": \"LMAE\", \"title\": \"LMAE\"}], \"x\": {\"type\": \"nominal\", \"axis\": {\"title\": \"Representaion 2\", \"titlePadding\": 15}, \"field\": \"representation_2\", \"sort\": [\"PCA_BOA\", \"PCA_coordinates\", \"PCA_constAP-RDF\", \"PCA_linearAP-RDF\", \"word_embedding\", \"binary\", \"preprocessed2\", \"preprocessed\"]}, \"y\": {\"type\": \"nominal\", \"axis\": {\"title\": \"Representation 1\", \"titlePadding\": 15}, \"field\": \"representation\", \"sort\": [\"PCA_BOA\", \"PCA_coordinates\", \"PCA_constAP-RDF\", \"PCA_linearAP-RDF\", \"word_embedding\", \"binary\", \"preprocessed2\", \"preprocessed\"]}}, \"height\": 220, \"title\": \"XGBRegressor\", \"width\": 300}], \"data\": {\"name\": \"data-6daf0b8ee30e2aab32eba17acef3f969\"}, \"$schema\": \"https://vega.github.io/schema/vega-lite/v4.8.1.json\", \"datasets\": {\"data-6daf0b8ee30e2aab32eba17acef3f969\": [{\"representation\": \"preprocessed\", \"representation_2\": \"preprocessed\", \"LMAE\": 1.259503993445832}, {\"representation\": \"preprocessed\", \"representation_2\": \"preprocessed2\", \"LMAE\": 1.259618862880334}, {\"representation\": \"preprocessed2\", \"representation_2\": \"preprocessed2\", \"LMAE\": 1.2596354706200177}, {\"representation\": \"preprocessed\", \"representation_2\": \"binary\", \"LMAE\": 1.2511853034260552}, {\"representation\": \"preprocessed2\", \"representation_2\": \"binary\", \"LMAE\": 1.2554068543493482}, {\"representation\": \"binary\", \"representation_2\": \"binary\", \"LMAE\": 1.734774883178402}, {\"representation\": \"preprocessed\", \"representation_2\": \"word_embedding\", \"LMAE\": 1.253147794889317}, {\"representation\": \"preprocessed2\", \"representation_2\": \"word_embedding\", \"LMAE\": 1.253562284720151}, {\"representation\": \"binary\", \"representation_2\": \"word_embedding\", \"LMAE\": 1.735736529920543}, {\"representation\": \"word_embedding\", \"representation_2\": \"word_embedding\", \"LMAE\": 1.7806475061454754}, {\"representation\": \"preprocessed\", \"representation_2\": \"PCA_linearAP-RDF\", \"LMAE\": 1.2556328845406868}, {\"representation\": \"preprocessed2\", \"representation_2\": \"PCA_linearAP-RDF\", \"LMAE\": 1.2582905940812772}, {\"representation\": \"binary\", \"representation_2\": \"PCA_linearAP-RDF\", \"LMAE\": 1.5244454162868928}, {\"representation\": \"word_embedding\", \"representation_2\": \"PCA_linearAP-RDF\", \"LMAE\": 1.5553913856370971}, {\"representation\": \"PCA_linearAP-RDF\", \"representation_2\": \"PCA_linearAP-RDF\", \"LMAE\": 1.563762039634682}, {\"representation\": \"preprocessed\", \"representation_2\": \"PCA_constAP-RDF\", \"LMAE\": 1.255404564714821}, {\"representation\": \"preprocessed2\", \"representation_2\": \"PCA_constAP-RDF\", \"LMAE\": 1.258916554053566}, {\"representation\": \"binary\", \"representation_2\": \"PCA_constAP-RDF\", \"LMAE\": 1.5214292096062036}, {\"representation\": \"word_embedding\", \"representation_2\": \"PCA_constAP-RDF\", \"LMAE\": 1.551502471029228}, {\"representation\": \"PCA_linearAP-RDF\", \"representation_2\": \"PCA_constAP-RDF\", \"LMAE\": 1.5546156211048077}, {\"representation\": \"PCA_constAP-RDF\", \"representation_2\": \"PCA_constAP-RDF\", \"LMAE\": 1.5605120285928928}, {\"representation\": \"preprocessed\", \"representation_2\": \"PCA_coordinates\", \"LMAE\": 1.28759278574078}, {\"representation\": \"preprocessed2\", \"representation_2\": \"PCA_coordinates\", \"LMAE\": 1.2856619781853134}, {\"representation\": \"binary\", \"representation_2\": \"PCA_coordinates\", \"LMAE\": 1.618989018389919}, {\"representation\": \"word_embedding\", \"representation_2\": \"PCA_coordinates\", \"LMAE\": 1.6443593523170632}, {\"representation\": \"PCA_linearAP-RDF\", \"representation_2\": \"PCA_coordinates\", \"LMAE\": 1.5616682815735743}, {\"representation\": \"PCA_constAP-RDF\", \"representation_2\": \"PCA_coordinates\", \"LMAE\": 1.5623308631688446}, {\"representation\": \"PCA_coordinates\", \"representation_2\": \"PCA_coordinates\", \"LMAE\": 1.6503037060857095}, {\"representation\": \"preprocessed\", \"representation_2\": \"PCA_BOA\", \"LMAE\": 1.2741306366373504}, {\"representation\": \"preprocessed2\", \"representation_2\": \"PCA_BOA\", \"LMAE\": 1.2757689729259996}, {\"representation\": \"binary\", \"representation_2\": \"PCA_BOA\", \"LMAE\": 1.5567334874554108}, {\"representation\": \"word_embedding\", \"representation_2\": \"PCA_BOA\", \"LMAE\": 1.5762891145677045}, {\"representation\": \"PCA_linearAP-RDF\", \"representation_2\": \"PCA_BOA\", \"LMAE\": 1.5378818092211508}, {\"representation\": \"PCA_constAP-RDF\", \"representation_2\": \"PCA_BOA\", \"LMAE\": 1.5344072167473737}, {\"representation\": \"PCA_coordinates\", \"representation_2\": \"PCA_BOA\", \"LMAE\": 1.554314018105303}, {\"representation\": \"PCA_BOA\", \"representation_2\": \"PCA_BOA\", \"LMAE\": 1.5880414098857}]}}, {\"mode\": \"vega-lite\"});\n</script>",
      "text/plain": "alt.LayerChart(...)"
     },
     "metadata": {}
    }
   ]
  },
  {
   "cell_type": "code",
   "metadata": {
    "tags": [],
    "cell_id": "00004-e8e1fba6-bceb-4fa5-a672-e86c4c10b435",
    "deepnote_to_be_reexecuted": false,
    "source_hash": "abfa217f",
    "execution_start": 1634326484639,
    "execution_millis": 4,
    "deepnote_cell_type": "code"
   },
   "source": "LMAE_plot2 = LMAE_plot[LMAE_plot.representation.isin(['preprocessed','preprocessed2'])]\nminval = LMAE_plot2[\"LMAE\"].max()\nmaxval = LMAE_plot2[\"LMAE\"].min()\n\nheatmap_pp = alt.Chart(\n    LMAE_plot2,\n    title=MODELS_GS[model]\n    ).mark_rect().encode(\n        x=alt.X('representation_2', axis=alt.Axis(title='Representaion 2',titlePadding=15), sort=list(reversed(representation))),\n        y=alt.Y('representation', axis=alt.Axis(title='Representation 1',titlePadding=15), sort=list(reversed(representation))),\n        color=alt.Color('LMAE', scale=alt.Scale(scheme=\"blues\"), sort='descending'),\n        tooltip=[alt.Tooltip('LMAE', title='LMAE')]\n    ).properties(height=80,width=300,)\n\nheatmap_pp.configure_title(fontSize=16,offset=10)",
   "execution_count": null,
   "outputs": [
    {
     "output_type": "execute_result",
     "execution_count": 5,
     "data": {
      "text/html": "\n<div id=\"altair-viz-ce4ae2a0e2a34b53bd0879a1c1b07d8f\"></div>\n<script type=\"text/javascript\">\n  (function(spec, embedOpt){\n    let outputDiv = document.currentScript.previousElementSibling;\n    if (outputDiv.id !== \"altair-viz-ce4ae2a0e2a34b53bd0879a1c1b07d8f\") {\n      outputDiv = document.getElementById(\"altair-viz-ce4ae2a0e2a34b53bd0879a1c1b07d8f\");\n    }\n    const paths = {\n      \"vega\": \"https://cdn.jsdelivr.net/npm//vega@5?noext\",\n      \"vega-lib\": \"https://cdn.jsdelivr.net/npm//vega-lib?noext\",\n      \"vega-lite\": \"https://cdn.jsdelivr.net/npm//vega-lite@4.8.1?noext\",\n      \"vega-embed\": \"https://cdn.jsdelivr.net/npm//vega-embed@6?noext\",\n    };\n\n    function loadScript(lib) {\n      return new Promise(function(resolve, reject) {\n        var s = document.createElement('script');\n        s.src = paths[lib];\n        s.async = true;\n        s.onload = () => resolve(paths[lib]);\n        s.onerror = () => reject(`Error loading script: ${paths[lib]}`);\n        document.getElementsByTagName(\"head\")[0].appendChild(s);\n      });\n    }\n\n    function showError(err) {\n      outputDiv.innerHTML = `<div class=\"error\" style=\"color:red;\">${err}</div>`;\n      throw err;\n    }\n\n    function displayChart(vegaEmbed) {\n      vegaEmbed(outputDiv, spec, embedOpt)\n        .catch(err => showError(`Javascript Error: ${err.message}<br>This usually means there's a typo in your chart specification. See the javascript console for the full traceback.`));\n    }\n\n    if(typeof define === \"function\" && define.amd) {\n      requirejs.config({paths});\n      require([\"vega-embed\"], displayChart, err => showError(`Error loading script: ${err.message}`));\n    } else if (typeof vegaEmbed === \"function\") {\n      displayChart(vegaEmbed);\n    } else {\n      loadScript(\"vega\")\n        .then(() => loadScript(\"vega-lite\"))\n        .then(() => loadScript(\"vega-embed\"))\n        .catch(showError)\n        .then(() => displayChart(vegaEmbed));\n    }\n  })({\"config\": {\"view\": {\"continuousWidth\": 400, \"continuousHeight\": 300}, \"title\": {\"fontSize\": 16, \"offset\": 10}}, \"data\": {\"name\": \"data-66c4d2b53e83c9808f3068603cadf4fd\"}, \"mark\": \"rect\", \"encoding\": {\"color\": {\"type\": \"quantitative\", \"field\": \"LMAE\", \"scale\": {\"scheme\": \"blues\"}, \"sort\": \"descending\"}, \"tooltip\": [{\"type\": \"quantitative\", \"field\": \"LMAE\", \"title\": \"LMAE\"}], \"x\": {\"type\": \"nominal\", \"axis\": {\"title\": \"Representaion 2\", \"titlePadding\": 15}, \"field\": \"representation_2\", \"sort\": [\"PCA_BOA\", \"PCA_coordinates\", \"PCA_constAP-RDF\", \"PCA_linearAP-RDF\", \"word_embedding\", \"binary\", \"preprocessed2\", \"preprocessed\"]}, \"y\": {\"type\": \"nominal\", \"axis\": {\"title\": \"Representation 1\", \"titlePadding\": 15}, \"field\": \"representation\", \"sort\": [\"PCA_BOA\", \"PCA_coordinates\", \"PCA_constAP-RDF\", \"PCA_linearAP-RDF\", \"word_embedding\", \"binary\", \"preprocessed2\", \"preprocessed\"]}}, \"height\": 80, \"title\": \"XGBRegressor\", \"width\": 300, \"$schema\": \"https://vega.github.io/schema/vega-lite/v4.8.1.json\", \"datasets\": {\"data-66c4d2b53e83c9808f3068603cadf4fd\": [{\"representation\": \"preprocessed\", \"representation_2\": \"preprocessed\", \"LMAE\": 1.259503993445832}, {\"representation\": \"preprocessed\", \"representation_2\": \"preprocessed2\", \"LMAE\": 1.259618862880334}, {\"representation\": \"preprocessed2\", \"representation_2\": \"preprocessed2\", \"LMAE\": 1.2596354706200177}, {\"representation\": \"preprocessed\", \"representation_2\": \"binary\", \"LMAE\": 1.2511853034260552}, {\"representation\": \"preprocessed2\", \"representation_2\": \"binary\", \"LMAE\": 1.2554068543493482}, {\"representation\": \"preprocessed\", \"representation_2\": \"word_embedding\", \"LMAE\": 1.253147794889317}, {\"representation\": \"preprocessed2\", \"representation_2\": \"word_embedding\", \"LMAE\": 1.253562284720151}, {\"representation\": \"preprocessed\", \"representation_2\": \"PCA_linearAP-RDF\", \"LMAE\": 1.2556328845406868}, {\"representation\": \"preprocessed2\", \"representation_2\": \"PCA_linearAP-RDF\", \"LMAE\": 1.2582905940812772}, {\"representation\": \"preprocessed\", \"representation_2\": \"PCA_constAP-RDF\", \"LMAE\": 1.255404564714821}, {\"representation\": \"preprocessed2\", \"representation_2\": \"PCA_constAP-RDF\", \"LMAE\": 1.258916554053566}, {\"representation\": \"preprocessed\", \"representation_2\": \"PCA_coordinates\", \"LMAE\": 1.28759278574078}, {\"representation\": \"preprocessed2\", \"representation_2\": \"PCA_coordinates\", \"LMAE\": 1.2856619781853134}, {\"representation\": \"preprocessed\", \"representation_2\": \"PCA_BOA\", \"LMAE\": 1.2741306366373504}, {\"representation\": \"preprocessed2\", \"representation_2\": \"PCA_BOA\", \"LMAE\": 1.2757689729259996}]}}, {\"mode\": \"vega-lite\"});\n</script>",
      "text/plain": "alt.Chart(...)"
     },
     "metadata": {}
    }
   ]
  },
  {
   "cell_type": "code",
   "metadata": {
    "tags": [],
    "cell_id": "00005-26526b98-1e0b-49e3-b00a-4f0439f0bf44",
    "deepnote_to_be_reexecuted": false,
    "source_hash": "956ffef9",
    "execution_start": 1634326484676,
    "execution_millis": 5,
    "deepnote_cell_type": "code"
   },
   "source": "text_pp = heatmap_pp.mark_text(baseline='middle').encode(\n    text=alt.Text('LMAE', format='.4s'),\n    color=alt.condition(\n        alt.datum.LMAE > (minval+maxval)/2,\n        alt.value('black'),\n        alt.value('white')\n    )\n)\n\nalt.layer(heatmap_pp,text_pp).configure_title(fontSize=16,offset=10)",
   "execution_count": null,
   "outputs": [
    {
     "output_type": "execute_result",
     "execution_count": 6,
     "data": {
      "text/html": "\n<div id=\"altair-viz-ea7c6da9ec3b4b7b81324bfe794bc71c\"></div>\n<script type=\"text/javascript\">\n  (function(spec, embedOpt){\n    let outputDiv = document.currentScript.previousElementSibling;\n    if (outputDiv.id !== \"altair-viz-ea7c6da9ec3b4b7b81324bfe794bc71c\") {\n      outputDiv = document.getElementById(\"altair-viz-ea7c6da9ec3b4b7b81324bfe794bc71c\");\n    }\n    const paths = {\n      \"vega\": \"https://cdn.jsdelivr.net/npm//vega@5?noext\",\n      \"vega-lib\": \"https://cdn.jsdelivr.net/npm//vega-lib?noext\",\n      \"vega-lite\": \"https://cdn.jsdelivr.net/npm//vega-lite@4.8.1?noext\",\n      \"vega-embed\": \"https://cdn.jsdelivr.net/npm//vega-embed@6?noext\",\n    };\n\n    function loadScript(lib) {\n      return new Promise(function(resolve, reject) {\n        var s = document.createElement('script');\n        s.src = paths[lib];\n        s.async = true;\n        s.onload = () => resolve(paths[lib]);\n        s.onerror = () => reject(`Error loading script: ${paths[lib]}`);\n        document.getElementsByTagName(\"head\")[0].appendChild(s);\n      });\n    }\n\n    function showError(err) {\n      outputDiv.innerHTML = `<div class=\"error\" style=\"color:red;\">${err}</div>`;\n      throw err;\n    }\n\n    function displayChart(vegaEmbed) {\n      vegaEmbed(outputDiv, spec, embedOpt)\n        .catch(err => showError(`Javascript Error: ${err.message}<br>This usually means there's a typo in your chart specification. See the javascript console for the full traceback.`));\n    }\n\n    if(typeof define === \"function\" && define.amd) {\n      requirejs.config({paths});\n      require([\"vega-embed\"], displayChart, err => showError(`Error loading script: ${err.message}`));\n    } else if (typeof vegaEmbed === \"function\") {\n      displayChart(vegaEmbed);\n    } else {\n      loadScript(\"vega\")\n        .then(() => loadScript(\"vega-lite\"))\n        .then(() => loadScript(\"vega-embed\"))\n        .catch(showError)\n        .then(() => displayChart(vegaEmbed));\n    }\n  })({\"config\": {\"view\": {\"continuousWidth\": 400, \"continuousHeight\": 300}, \"title\": {\"fontSize\": 16, \"offset\": 10}}, \"layer\": [{\"mark\": \"rect\", \"encoding\": {\"color\": {\"type\": \"quantitative\", \"field\": \"LMAE\", \"scale\": {\"scheme\": \"blues\"}, \"sort\": \"descending\"}, \"tooltip\": [{\"type\": \"quantitative\", \"field\": \"LMAE\", \"title\": \"LMAE\"}], \"x\": {\"type\": \"nominal\", \"axis\": {\"title\": \"Representaion 2\", \"titlePadding\": 15}, \"field\": \"representation_2\", \"sort\": [\"PCA_BOA\", \"PCA_coordinates\", \"PCA_constAP-RDF\", \"PCA_linearAP-RDF\", \"word_embedding\", \"binary\", \"preprocessed2\", \"preprocessed\"]}, \"y\": {\"type\": \"nominal\", \"axis\": {\"title\": \"Representation 1\", \"titlePadding\": 15}, \"field\": \"representation\", \"sort\": [\"PCA_BOA\", \"PCA_coordinates\", \"PCA_constAP-RDF\", \"PCA_linearAP-RDF\", \"word_embedding\", \"binary\", \"preprocessed2\", \"preprocessed\"]}}, \"height\": 80, \"title\": \"XGBRegressor\", \"width\": 300}, {\"mark\": {\"type\": \"text\", \"baseline\": \"middle\"}, \"encoding\": {\"color\": {\"condition\": {\"value\": \"black\", \"test\": \"(datum.LMAE > 1.2693890445834177)\"}, \"value\": \"white\"}, \"text\": {\"type\": \"quantitative\", \"field\": \"LMAE\", \"format\": \".4s\"}, \"tooltip\": [{\"type\": \"quantitative\", \"field\": \"LMAE\", \"title\": \"LMAE\"}], \"x\": {\"type\": \"nominal\", \"axis\": {\"title\": \"Representaion 2\", \"titlePadding\": 15}, \"field\": \"representation_2\", \"sort\": [\"PCA_BOA\", \"PCA_coordinates\", \"PCA_constAP-RDF\", \"PCA_linearAP-RDF\", \"word_embedding\", \"binary\", \"preprocessed2\", \"preprocessed\"]}, \"y\": {\"type\": \"nominal\", \"axis\": {\"title\": \"Representation 1\", \"titlePadding\": 15}, \"field\": \"representation\", \"sort\": [\"PCA_BOA\", \"PCA_coordinates\", \"PCA_constAP-RDF\", \"PCA_linearAP-RDF\", \"word_embedding\", \"binary\", \"preprocessed2\", \"preprocessed\"]}}, \"height\": 80, \"title\": \"XGBRegressor\", \"width\": 300}], \"data\": {\"name\": \"data-66c4d2b53e83c9808f3068603cadf4fd\"}, \"$schema\": \"https://vega.github.io/schema/vega-lite/v4.8.1.json\", \"datasets\": {\"data-66c4d2b53e83c9808f3068603cadf4fd\": [{\"representation\": \"preprocessed\", \"representation_2\": \"preprocessed\", \"LMAE\": 1.259503993445832}, {\"representation\": \"preprocessed\", \"representation_2\": \"preprocessed2\", \"LMAE\": 1.259618862880334}, {\"representation\": \"preprocessed2\", \"representation_2\": \"preprocessed2\", \"LMAE\": 1.2596354706200177}, {\"representation\": \"preprocessed\", \"representation_2\": \"binary\", \"LMAE\": 1.2511853034260552}, {\"representation\": \"preprocessed2\", \"representation_2\": \"binary\", \"LMAE\": 1.2554068543493482}, {\"representation\": \"preprocessed\", \"representation_2\": \"word_embedding\", \"LMAE\": 1.253147794889317}, {\"representation\": \"preprocessed2\", \"representation_2\": \"word_embedding\", \"LMAE\": 1.253562284720151}, {\"representation\": \"preprocessed\", \"representation_2\": \"PCA_linearAP-RDF\", \"LMAE\": 1.2556328845406868}, {\"representation\": \"preprocessed2\", \"representation_2\": \"PCA_linearAP-RDF\", \"LMAE\": 1.2582905940812772}, {\"representation\": \"preprocessed\", \"representation_2\": \"PCA_constAP-RDF\", \"LMAE\": 1.255404564714821}, {\"representation\": \"preprocessed2\", \"representation_2\": \"PCA_constAP-RDF\", \"LMAE\": 1.258916554053566}, {\"representation\": \"preprocessed\", \"representation_2\": \"PCA_coordinates\", \"LMAE\": 1.28759278574078}, {\"representation\": \"preprocessed2\", \"representation_2\": \"PCA_coordinates\", \"LMAE\": 1.2856619781853134}, {\"representation\": \"preprocessed\", \"representation_2\": \"PCA_BOA\", \"LMAE\": 1.2741306366373504}, {\"representation\": \"preprocessed2\", \"representation_2\": \"PCA_BOA\", \"LMAE\": 1.2757689729259996}]}}, {\"mode\": \"vega-lite\"});\n</script>",
      "text/plain": "alt.LayerChart(...)"
     },
     "metadata": {}
    }
   ]
  },
  {
   "cell_type": "markdown",
   "source": "<a style='text-decoration:none;line-height:16px;display:flex;color:#5B5B62;padding:10px;justify-content:end;' href='https://deepnote.com?utm_source=created-in-deepnote-cell&projectId=14926f3d-680a-4b75-8c17-5c8772b1fd51' target=\"_blank\">\n<img alt='Created in deepnote.com' style='display:inline;max-height:16px;margin:0px;margin-right:7.5px;' src='data:image/svg+xml;base64,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' > </img>\nCreated in <span style='font-weight:600;margin-left:4px;'>Deepnote</span></a>",
   "metadata": {
    "tags": [],
    "created_in_deepnote_cell": true,
    "deepnote_cell_type": "markdown"
   }
  }
 ],
 "nbformat": 4,
 "nbformat_minor": 2,
 "metadata": {
  "orig_nbformat": 2,
  "deepnote": {
   "is_reactive": false
  },
  "deepnote_notebook_id": "cb3a2321-56c9-4884-893e-f9e16f256529",
  "deepnote_execution_queue": []
 }
}